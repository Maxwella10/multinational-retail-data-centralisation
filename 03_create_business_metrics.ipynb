{
 "cells": [
  {
   "cell_type": "markdown",
   "metadata": {},
   "source": [
    "AiCore Multinational Retail Data Centralisation Project\n",
    "Milestone 4: Query the data using QL\n",
    "\n",
    "Author: Maxwell Acha\n",
    "\n",
    "Date: 2023-11-20"
   ]
  },
  {
   "cell_type": "code",
   "execution_count": 5,
   "metadata": {},
   "outputs": [
    {
     "name": "stdout",
     "output_type": "stream",
     "text": [
      "Loading database credentials from file: data_ingestion\\db_local_creds.yaml\n",
      "Connecting to database: postgres\n"
     ]
    }
   ],
   "source": [
    "# Import libraries and connect to database\n",
    "\n",
    "import pandas as pd\n",
    "from data_ingestion.database_utils import DatabaseConnector\n",
    "from sqlalchemy import text\n",
    "\n",
    "db_connector = DatabaseConnector(\"data_ingestion\\db_local_creds.yaml\")\n",
    "db_connector.init_db_engine(autocommit=True)\n",
    "engine = db_connector.engine\n",
    "\n",
    "\n",
    "def execute(sql):\n",
    "    '''Helper function for executing SQL and printing results.\n",
    "\n",
    "    Arguments:\n",
    "        sql (string): SQL query\n",
    "    \n",
    "    Returns:\n",
    "        None'''\n",
    "        \n",
    "    with engine.connect() as con:\n",
    "        df = pd.read_sql_query(sql=text(sql), con=con)\n",
    "        print(df)"
   ]
  },
  {
   "cell_type": "code",
   "execution_count": 6,
   "metadata": {},
   "outputs": [
    {
     "ename": "NameError",
     "evalue": "name 'df' is not defined",
     "output_type": "error",
     "traceback": [
      "\u001b[1;31m---------------------------------------------------------------------------\u001b[0m",
      "\u001b[1;31mNameError\u001b[0m                                 Traceback (most recent call last)",
      "\u001b[1;32mc:\\Users\\mezie\\OneDrive\\desktop\\Bootcamp-23-challenges\\multinational-retail-data-centralisation\\03_create_business_metrics.ipynb Cell 3\u001b[0m line \u001b[0;36m1\n\u001b[1;32m----> <a href='vscode-notebook-cell:/c%3A/Users/mezie/OneDrive/desktop/Bootcamp-23-challenges/multinational-retail-data-centralisation/03_create_business_metrics.ipynb#X30sZmlsZQ%3D%3D?line=0'>1</a>\u001b[0m \u001b[39mprint\u001b[39m(df\u001b[39m.\u001b[39mhead())\n",
      "\u001b[1;31mNameError\u001b[0m: name 'df' is not defined"
     ]
    },
    {
     "ename": "",
     "evalue": "",
     "output_type": "error",
     "traceback": [
      "\u001b[1;31mThe Kernel crashed while executing code in the the current cell or a previous cell. Please review the code in the cell(s) to identify a possible cause of the failure. Click <a href='https://aka.ms/vscodeJupyterKernelCrash'>here</a> for more info. View Jupyter <a href='command:jupyter.viewOutput'>log</a> for further details."
     ]
    }
   ],
   "source": [
    "print(df.head())"
   ]
  },
  {
   "cell_type": "markdown",
   "metadata": {},
   "source": [
    "1. How many stores does the business have and in which countries?"
   ]
  },
  {
   "cell_type": "code",
   "execution_count": 2,
   "metadata": {},
   "outputs": [
    {
     "name": "stdout",
     "output_type": "stream",
     "text": [
      "  country_code  total_no_stores\n",
      "0           DE              141\n",
      "1           GB              266\n",
      "2           US               34\n"
     ]
    }
   ],
   "source": [
    "sql = '''\n",
    "SELECT country_code, count(*) AS total_no_stores\n",
    "FROM dim_store_details\n",
    "GROUP BY country_code\n",
    "ORDER BY country_code;\n",
    "'''\n",
    "\n",
    "execute(sql)"
   ]
  },
  {
   "cell_type": "markdown",
   "metadata": {},
   "source": [
    "2. Which locations currently have the most stores?"
   ]
  },
  {
   "cell_type": "code",
   "execution_count": 3,
   "metadata": {},
   "outputs": [
    {
     "name": "stdout",
     "output_type": "stream",
     "text": [
      "       locality  total_no_stores\n",
      "0    Chapletown               14\n",
      "1        Belper               13\n",
      "2        Bushey               12\n",
      "3        Exeter               11\n",
      "4  High Wycombe               10\n",
      "5    Rutherglen               10\n",
      "6      Arbroath               10\n",
      "7      Surbiton                9\n",
      "8       Lancing                9\n",
      "9      Aberdeen                9\n"
     ]
    }
   ],
   "source": [
    "sql = '''\n",
    "SELECT locality, count(*) AS total_no_stores\n",
    "FROM dim_store_details\n",
    "GROUP BY locality\n",
    "ORDER BY total_no_stores DESC\n",
    "LIMIT 10;\n",
    "'''\n",
    "\n",
    "execute(sql)"
   ]
  },
  {
   "cell_type": "code",
   "execution_count": 4,
   "metadata": {},
   "outputs": [
    {
     "ename": "NameError",
     "evalue": "name 'df' is not defined",
     "output_type": "error",
     "traceback": [
      "\u001b[1;31m---------------------------------------------------------------------------\u001b[0m",
      "\u001b[1;31mNameError\u001b[0m                                 Traceback (most recent call last)",
      "\u001b[1;32mc:\\Users\\mezie\\OneDrive\\desktop\\Bootcamp-23-challenges\\multinational-retail-data-centralisation\\03_create_business_metrics.ipynb Cell 7\u001b[0m line \u001b[0;36m1\n\u001b[1;32m----> <a href='vscode-notebook-cell:/c%3A/Users/mezie/OneDrive/desktop/Bootcamp-23-challenges/multinational-retail-data-centralisation/03_create_business_metrics.ipynb#X26sZmlsZQ%3D%3D?line=0'>1</a>\u001b[0m \u001b[39mprint\u001b[39m(df\u001b[39m.\u001b[39mhead())\n",
      "\u001b[1;31mNameError\u001b[0m: name 'df' is not defined"
     ]
    }
   ],
   "source": [
    "print(df.head())"
   ]
  },
  {
   "cell_type": "markdown",
   "metadata": {},
   "source": [
    "3. Which months produce the highest average cost of sales?"
   ]
  },
  {
   "cell_type": "code",
   "execution_count": 5,
   "metadata": {},
   "outputs": [
    {
     "ename": "ProgrammingError",
     "evalue": "(psycopg2.errors.UndefinedColumn) column prod.product_code does not exist\nLINE 13:   ON ord.product_code = prod.product_code\n                                 ^\nHINT:  Perhaps you meant to reference the column \"ord.product_code\".\n\n[SQL: \nSELECT\n\tROUND(CAST(SUM(spend) AS numeric), 2) AS total_sales,\n\tmonth\nFROM (\n\tSELECT \n\t\tord.product_quantity * prod.product_price AS spend,\n\t\tdt.month\n\tFROM orders_table ord\n\tINNER JOIN dim_date_times dt\n\t\tON ord.date_uuid = dt.date_uuid\n\tINNER JOIN dim_products prod\n\t\tON ord.product_code = prod.product_code\n) x\nGROUP BY month\nORDER BY total_sales DESC;\n]\n(Background on this error at: https://sqlalche.me/e/14/f405)",
     "output_type": "error",
     "traceback": [
      "\u001b[1;31m---------------------------------------------------------------------------\u001b[0m",
      "\u001b[1;31mUndefinedColumn\u001b[0m                           Traceback (most recent call last)",
      "File \u001b[1;32mc:\\Python310\\lib\\site-packages\\sqlalchemy\\engine\\base.py:1910\u001b[0m, in \u001b[0;36mConnection._execute_context\u001b[1;34m(self, dialect, constructor, statement, parameters, execution_options, *args, **kw)\u001b[0m\n\u001b[0;32m   1909\u001b[0m     \u001b[39mif\u001b[39;00m \u001b[39mnot\u001b[39;00m evt_handled:\n\u001b[1;32m-> 1910\u001b[0m         \u001b[39mself\u001b[39;49m\u001b[39m.\u001b[39;49mdialect\u001b[39m.\u001b[39;49mdo_execute(\n\u001b[0;32m   1911\u001b[0m             cursor, statement, parameters, context\n\u001b[0;32m   1912\u001b[0m         )\n\u001b[0;32m   1914\u001b[0m \u001b[39mif\u001b[39;00m \u001b[39mself\u001b[39m\u001b[39m.\u001b[39m_has_events \u001b[39mor\u001b[39;00m \u001b[39mself\u001b[39m\u001b[39m.\u001b[39mengine\u001b[39m.\u001b[39m_has_events:\n",
      "File \u001b[1;32mc:\\Python310\\lib\\site-packages\\sqlalchemy\\engine\\default.py:736\u001b[0m, in \u001b[0;36mDefaultDialect.do_execute\u001b[1;34m(self, cursor, statement, parameters, context)\u001b[0m\n\u001b[0;32m    735\u001b[0m \u001b[39mdef\u001b[39;00m \u001b[39mdo_execute\u001b[39m(\u001b[39mself\u001b[39m, cursor, statement, parameters, context\u001b[39m=\u001b[39m\u001b[39mNone\u001b[39;00m):\n\u001b[1;32m--> 736\u001b[0m     cursor\u001b[39m.\u001b[39;49mexecute(statement, parameters)\n",
      "\u001b[1;31mUndefinedColumn\u001b[0m: column prod.product_code does not exist\nLINE 13:   ON ord.product_code = prod.product_code\n                                 ^\nHINT:  Perhaps you meant to reference the column \"ord.product_code\".\n",
      "\nThe above exception was the direct cause of the following exception:\n",
      "\u001b[1;31mProgrammingError\u001b[0m                          Traceback (most recent call last)",
      "\u001b[1;32mc:\\Users\\mezie\\OneDrive\\desktop\\Bootcamp-23-challenges\\multinational-retail-data-centralisation\\03_create_business_metrics.ipynb Cell 8\u001b[0m line \u001b[0;36m1\n\u001b[0;32m      <a href='vscode-notebook-cell:/c%3A/Users/mezie/OneDrive/desktop/Bootcamp-23-challenges/multinational-retail-data-centralisation/03_create_business_metrics.ipynb#X10sZmlsZQ%3D%3D?line=0'>1</a>\u001b[0m sql \u001b[39m=\u001b[39m \u001b[39m'''\u001b[39m\n\u001b[0;32m      <a href='vscode-notebook-cell:/c%3A/Users/mezie/OneDrive/desktop/Bootcamp-23-challenges/multinational-retail-data-centralisation/03_create_business_metrics.ipynb#X10sZmlsZQ%3D%3D?line=1'>2</a>\u001b[0m \u001b[39mSELECT\u001b[39m\n\u001b[0;32m      <a href='vscode-notebook-cell:/c%3A/Users/mezie/OneDrive/desktop/Bootcamp-23-challenges/multinational-retail-data-centralisation/03_create_business_metrics.ipynb#X10sZmlsZQ%3D%3D?line=2'>3</a>\u001b[0m \u001b[39m\tROUND(CAST(SUM(spend) AS numeric), 2) AS total_sales,\u001b[39m\n\u001b[1;32m   (...)\u001b[0m\n\u001b[0;32m     <a href='vscode-notebook-cell:/c%3A/Users/mezie/OneDrive/desktop/Bootcamp-23-challenges/multinational-retail-data-centralisation/03_create_business_metrics.ipynb#X10sZmlsZQ%3D%3D?line=15'>16</a>\u001b[0m \u001b[39mORDER BY total_sales DESC;\u001b[39m\n\u001b[0;32m     <a href='vscode-notebook-cell:/c%3A/Users/mezie/OneDrive/desktop/Bootcamp-23-challenges/multinational-retail-data-centralisation/03_create_business_metrics.ipynb#X10sZmlsZQ%3D%3D?line=16'>17</a>\u001b[0m \u001b[39m'''\u001b[39m\n\u001b[1;32m---> <a href='vscode-notebook-cell:/c%3A/Users/mezie/OneDrive/desktop/Bootcamp-23-challenges/multinational-retail-data-centralisation/03_create_business_metrics.ipynb#X10sZmlsZQ%3D%3D?line=18'>19</a>\u001b[0m execute(sql)\n",
      "\u001b[1;32mc:\\Users\\mezie\\OneDrive\\desktop\\Bootcamp-23-challenges\\multinational-retail-data-centralisation\\03_create_business_metrics.ipynb Cell 8\u001b[0m line \u001b[0;36m2\n\u001b[0;32m     <a href='vscode-notebook-cell:/c%3A/Users/mezie/OneDrive/desktop/Bootcamp-23-challenges/multinational-retail-data-centralisation/03_create_business_metrics.ipynb#X10sZmlsZQ%3D%3D?line=12'>13</a>\u001b[0m \u001b[39m\u001b[39m\u001b[39m'''Helper function for executing SQL and printing results.\u001b[39;00m\n\u001b[0;32m     <a href='vscode-notebook-cell:/c%3A/Users/mezie/OneDrive/desktop/Bootcamp-23-challenges/multinational-retail-data-centralisation/03_create_business_metrics.ipynb#X10sZmlsZQ%3D%3D?line=13'>14</a>\u001b[0m \n\u001b[0;32m     <a href='vscode-notebook-cell:/c%3A/Users/mezie/OneDrive/desktop/Bootcamp-23-challenges/multinational-retail-data-centralisation/03_create_business_metrics.ipynb#X10sZmlsZQ%3D%3D?line=14'>15</a>\u001b[0m \u001b[39mArguments:\u001b[39;00m\n\u001b[1;32m   (...)\u001b[0m\n\u001b[0;32m     <a href='vscode-notebook-cell:/c%3A/Users/mezie/OneDrive/desktop/Bootcamp-23-challenges/multinational-retail-data-centralisation/03_create_business_metrics.ipynb#X10sZmlsZQ%3D%3D?line=17'>18</a>\u001b[0m \u001b[39mReturns:\u001b[39;00m\n\u001b[0;32m     <a href='vscode-notebook-cell:/c%3A/Users/mezie/OneDrive/desktop/Bootcamp-23-challenges/multinational-retail-data-centralisation/03_create_business_metrics.ipynb#X10sZmlsZQ%3D%3D?line=18'>19</a>\u001b[0m \u001b[39m    None'''\u001b[39;00m\n\u001b[0;32m     <a href='vscode-notebook-cell:/c%3A/Users/mezie/OneDrive/desktop/Bootcamp-23-challenges/multinational-retail-data-centralisation/03_create_business_metrics.ipynb#X10sZmlsZQ%3D%3D?line=20'>21</a>\u001b[0m \u001b[39mwith\u001b[39;00m engine\u001b[39m.\u001b[39mconnect() \u001b[39mas\u001b[39;00m con:\n\u001b[1;32m---> <a href='vscode-notebook-cell:/c%3A/Users/mezie/OneDrive/desktop/Bootcamp-23-challenges/multinational-retail-data-centralisation/03_create_business_metrics.ipynb#X10sZmlsZQ%3D%3D?line=21'>22</a>\u001b[0m     df \u001b[39m=\u001b[39m pd\u001b[39m.\u001b[39;49mread_sql_query(sql\u001b[39m=\u001b[39;49mtext(sql), con\u001b[39m=\u001b[39;49mcon)\n\u001b[0;32m     <a href='vscode-notebook-cell:/c%3A/Users/mezie/OneDrive/desktop/Bootcamp-23-challenges/multinational-retail-data-centralisation/03_create_business_metrics.ipynb#X10sZmlsZQ%3D%3D?line=22'>23</a>\u001b[0m     \u001b[39mprint\u001b[39m(df)\n",
      "File \u001b[1;32mc:\\Python310\\lib\\site-packages\\pandas\\io\\sql.py:486\u001b[0m, in \u001b[0;36mread_sql_query\u001b[1;34m(sql, con, index_col, coerce_float, params, parse_dates, chunksize, dtype, dtype_backend)\u001b[0m\n\u001b[0;32m    483\u001b[0m \u001b[39massert\u001b[39;00m dtype_backend \u001b[39mis\u001b[39;00m \u001b[39mnot\u001b[39;00m lib\u001b[39m.\u001b[39mno_default\n\u001b[0;32m    485\u001b[0m \u001b[39mwith\u001b[39;00m pandasSQL_builder(con) \u001b[39mas\u001b[39;00m pandas_sql:\n\u001b[1;32m--> 486\u001b[0m     \u001b[39mreturn\u001b[39;00m pandas_sql\u001b[39m.\u001b[39;49mread_query(\n\u001b[0;32m    487\u001b[0m         sql,\n\u001b[0;32m    488\u001b[0m         index_col\u001b[39m=\u001b[39;49mindex_col,\n\u001b[0;32m    489\u001b[0m         params\u001b[39m=\u001b[39;49mparams,\n\u001b[0;32m    490\u001b[0m         coerce_float\u001b[39m=\u001b[39;49mcoerce_float,\n\u001b[0;32m    491\u001b[0m         parse_dates\u001b[39m=\u001b[39;49mparse_dates,\n\u001b[0;32m    492\u001b[0m         chunksize\u001b[39m=\u001b[39;49mchunksize,\n\u001b[0;32m    493\u001b[0m         dtype\u001b[39m=\u001b[39;49mdtype,\n\u001b[0;32m    494\u001b[0m         dtype_backend\u001b[39m=\u001b[39;49mdtype_backend,\n\u001b[0;32m    495\u001b[0m     )\n",
      "File \u001b[1;32mc:\\Python310\\lib\\site-packages\\pandas\\io\\sql.py:1776\u001b[0m, in \u001b[0;36mSQLDatabase.read_query\u001b[1;34m(self, sql, index_col, coerce_float, parse_dates, params, chunksize, dtype, dtype_backend)\u001b[0m\n\u001b[0;32m   1719\u001b[0m \u001b[39mdef\u001b[39;00m \u001b[39mread_query\u001b[39m(\n\u001b[0;32m   1720\u001b[0m     \u001b[39mself\u001b[39m,\n\u001b[0;32m   1721\u001b[0m     sql: \u001b[39mstr\u001b[39m,\n\u001b[1;32m   (...)\u001b[0m\n\u001b[0;32m   1728\u001b[0m     dtype_backend: DtypeBackend \u001b[39m|\u001b[39m Literal[\u001b[39m\"\u001b[39m\u001b[39mnumpy\u001b[39m\u001b[39m\"\u001b[39m] \u001b[39m=\u001b[39m \u001b[39m\"\u001b[39m\u001b[39mnumpy\u001b[39m\u001b[39m\"\u001b[39m,\n\u001b[0;32m   1729\u001b[0m ) \u001b[39m-\u001b[39m\u001b[39m>\u001b[39m DataFrame \u001b[39m|\u001b[39m Iterator[DataFrame]:\n\u001b[0;32m   1730\u001b[0m \u001b[39m    \u001b[39m\u001b[39m\"\"\"\u001b[39;00m\n\u001b[0;32m   1731\u001b[0m \u001b[39m    Read SQL query into a DataFrame.\u001b[39;00m\n\u001b[0;32m   1732\u001b[0m \n\u001b[1;32m   (...)\u001b[0m\n\u001b[0;32m   1774\u001b[0m \n\u001b[0;32m   1775\u001b[0m \u001b[39m    \"\"\"\u001b[39;00m\n\u001b[1;32m-> 1776\u001b[0m     result \u001b[39m=\u001b[39m \u001b[39mself\u001b[39;49m\u001b[39m.\u001b[39;49mexecute(sql, params)\n\u001b[0;32m   1777\u001b[0m     columns \u001b[39m=\u001b[39m result\u001b[39m.\u001b[39mkeys()\n\u001b[0;32m   1779\u001b[0m     \u001b[39mif\u001b[39;00m chunksize \u001b[39mis\u001b[39;00m \u001b[39mnot\u001b[39;00m \u001b[39mNone\u001b[39;00m:\n",
      "File \u001b[1;32mc:\\Python310\\lib\\site-packages\\pandas\\io\\sql.py:1600\u001b[0m, in \u001b[0;36mSQLDatabase.execute\u001b[1;34m(self, sql, params)\u001b[0m\n\u001b[0;32m   1598\u001b[0m \u001b[39mif\u001b[39;00m \u001b[39misinstance\u001b[39m(sql, \u001b[39mstr\u001b[39m):\n\u001b[0;32m   1599\u001b[0m     \u001b[39mreturn\u001b[39;00m \u001b[39mself\u001b[39m\u001b[39m.\u001b[39mcon\u001b[39m.\u001b[39mexec_driver_sql(sql, \u001b[39m*\u001b[39margs)\n\u001b[1;32m-> 1600\u001b[0m \u001b[39mreturn\u001b[39;00m \u001b[39mself\u001b[39;49m\u001b[39m.\u001b[39;49mcon\u001b[39m.\u001b[39;49mexecute(sql, \u001b[39m*\u001b[39;49margs)\n",
      "File \u001b[1;32mc:\\Python310\\lib\\site-packages\\sqlalchemy\\engine\\base.py:1385\u001b[0m, in \u001b[0;36mConnection.execute\u001b[1;34m(self, statement, *multiparams, **params)\u001b[0m\n\u001b[0;32m   1381\u001b[0m     util\u001b[39m.\u001b[39mraise_(\n\u001b[0;32m   1382\u001b[0m         exc\u001b[39m.\u001b[39mObjectNotExecutableError(statement), replace_context\u001b[39m=\u001b[39merr\n\u001b[0;32m   1383\u001b[0m     )\n\u001b[0;32m   1384\u001b[0m \u001b[39melse\u001b[39;00m:\n\u001b[1;32m-> 1385\u001b[0m     \u001b[39mreturn\u001b[39;00m meth(\u001b[39mself\u001b[39;49m, multiparams, params, _EMPTY_EXECUTION_OPTS)\n",
      "File \u001b[1;32mc:\\Python310\\lib\\site-packages\\sqlalchemy\\sql\\elements.py:334\u001b[0m, in \u001b[0;36mClauseElement._execute_on_connection\u001b[1;34m(self, connection, multiparams, params, execution_options, _force)\u001b[0m\n\u001b[0;32m    330\u001b[0m \u001b[39mdef\u001b[39;00m \u001b[39m_execute_on_connection\u001b[39m(\n\u001b[0;32m    331\u001b[0m     \u001b[39mself\u001b[39m, connection, multiparams, params, execution_options, _force\u001b[39m=\u001b[39m\u001b[39mFalse\u001b[39;00m\n\u001b[0;32m    332\u001b[0m ):\n\u001b[0;32m    333\u001b[0m     \u001b[39mif\u001b[39;00m _force \u001b[39mor\u001b[39;00m \u001b[39mself\u001b[39m\u001b[39m.\u001b[39msupports_execution:\n\u001b[1;32m--> 334\u001b[0m         \u001b[39mreturn\u001b[39;00m connection\u001b[39m.\u001b[39;49m_execute_clauseelement(\n\u001b[0;32m    335\u001b[0m             \u001b[39mself\u001b[39;49m, multiparams, params, execution_options\n\u001b[0;32m    336\u001b[0m         )\n\u001b[0;32m    337\u001b[0m     \u001b[39melse\u001b[39;00m:\n\u001b[0;32m    338\u001b[0m         \u001b[39mraise\u001b[39;00m exc\u001b[39m.\u001b[39mObjectNotExecutableError(\u001b[39mself\u001b[39m)\n",
      "File \u001b[1;32mc:\\Python310\\lib\\site-packages\\sqlalchemy\\engine\\base.py:1577\u001b[0m, in \u001b[0;36mConnection._execute_clauseelement\u001b[1;34m(self, elem, multiparams, params, execution_options)\u001b[0m\n\u001b[0;32m   1565\u001b[0m compiled_cache \u001b[39m=\u001b[39m execution_options\u001b[39m.\u001b[39mget(\n\u001b[0;32m   1566\u001b[0m     \u001b[39m\"\u001b[39m\u001b[39mcompiled_cache\u001b[39m\u001b[39m\"\u001b[39m, \u001b[39mself\u001b[39m\u001b[39m.\u001b[39mengine\u001b[39m.\u001b[39m_compiled_cache\n\u001b[0;32m   1567\u001b[0m )\n\u001b[0;32m   1569\u001b[0m compiled_sql, extracted_params, cache_hit \u001b[39m=\u001b[39m elem\u001b[39m.\u001b[39m_compile_w_cache(\n\u001b[0;32m   1570\u001b[0m     dialect\u001b[39m=\u001b[39mdialect,\n\u001b[0;32m   1571\u001b[0m     compiled_cache\u001b[39m=\u001b[39mcompiled_cache,\n\u001b[1;32m   (...)\u001b[0m\n\u001b[0;32m   1575\u001b[0m     linting\u001b[39m=\u001b[39m\u001b[39mself\u001b[39m\u001b[39m.\u001b[39mdialect\u001b[39m.\u001b[39mcompiler_linting \u001b[39m|\u001b[39m compiler\u001b[39m.\u001b[39mWARN_LINTING,\n\u001b[0;32m   1576\u001b[0m )\n\u001b[1;32m-> 1577\u001b[0m ret \u001b[39m=\u001b[39m \u001b[39mself\u001b[39;49m\u001b[39m.\u001b[39;49m_execute_context(\n\u001b[0;32m   1578\u001b[0m     dialect,\n\u001b[0;32m   1579\u001b[0m     dialect\u001b[39m.\u001b[39;49mexecution_ctx_cls\u001b[39m.\u001b[39;49m_init_compiled,\n\u001b[0;32m   1580\u001b[0m     compiled_sql,\n\u001b[0;32m   1581\u001b[0m     distilled_params,\n\u001b[0;32m   1582\u001b[0m     execution_options,\n\u001b[0;32m   1583\u001b[0m     compiled_sql,\n\u001b[0;32m   1584\u001b[0m     distilled_params,\n\u001b[0;32m   1585\u001b[0m     elem,\n\u001b[0;32m   1586\u001b[0m     extracted_params,\n\u001b[0;32m   1587\u001b[0m     cache_hit\u001b[39m=\u001b[39;49mcache_hit,\n\u001b[0;32m   1588\u001b[0m )\n\u001b[0;32m   1589\u001b[0m \u001b[39mif\u001b[39;00m has_events:\n\u001b[0;32m   1590\u001b[0m     \u001b[39mself\u001b[39m\u001b[39m.\u001b[39mdispatch\u001b[39m.\u001b[39mafter_execute(\n\u001b[0;32m   1591\u001b[0m         \u001b[39mself\u001b[39m,\n\u001b[0;32m   1592\u001b[0m         elem,\n\u001b[1;32m   (...)\u001b[0m\n\u001b[0;32m   1596\u001b[0m         ret,\n\u001b[0;32m   1597\u001b[0m     )\n",
      "File \u001b[1;32mc:\\Python310\\lib\\site-packages\\sqlalchemy\\engine\\base.py:1953\u001b[0m, in \u001b[0;36mConnection._execute_context\u001b[1;34m(self, dialect, constructor, statement, parameters, execution_options, *args, **kw)\u001b[0m\n\u001b[0;32m   1950\u001b[0m             branched\u001b[39m.\u001b[39mclose()\n\u001b[0;32m   1952\u001b[0m \u001b[39mexcept\u001b[39;00m \u001b[39mBaseException\u001b[39;00m \u001b[39mas\u001b[39;00m e:\n\u001b[1;32m-> 1953\u001b[0m     \u001b[39mself\u001b[39;49m\u001b[39m.\u001b[39;49m_handle_dbapi_exception(\n\u001b[0;32m   1954\u001b[0m         e, statement, parameters, cursor, context\n\u001b[0;32m   1955\u001b[0m     )\n\u001b[0;32m   1957\u001b[0m \u001b[39mreturn\u001b[39;00m result\n",
      "File \u001b[1;32mc:\\Python310\\lib\\site-packages\\sqlalchemy\\engine\\base.py:2134\u001b[0m, in \u001b[0;36mConnection._handle_dbapi_exception\u001b[1;34m(self, e, statement, parameters, cursor, context)\u001b[0m\n\u001b[0;32m   2132\u001b[0m     util\u001b[39m.\u001b[39mraise_(newraise, with_traceback\u001b[39m=\u001b[39mexc_info[\u001b[39m2\u001b[39m], from_\u001b[39m=\u001b[39me)\n\u001b[0;32m   2133\u001b[0m \u001b[39melif\u001b[39;00m should_wrap:\n\u001b[1;32m-> 2134\u001b[0m     util\u001b[39m.\u001b[39;49mraise_(\n\u001b[0;32m   2135\u001b[0m         sqlalchemy_exception, with_traceback\u001b[39m=\u001b[39;49mexc_info[\u001b[39m2\u001b[39;49m], from_\u001b[39m=\u001b[39;49me\n\u001b[0;32m   2136\u001b[0m     )\n\u001b[0;32m   2137\u001b[0m \u001b[39melse\u001b[39;00m:\n\u001b[0;32m   2138\u001b[0m     util\u001b[39m.\u001b[39mraise_(exc_info[\u001b[39m1\u001b[39m], with_traceback\u001b[39m=\u001b[39mexc_info[\u001b[39m2\u001b[39m])\n",
      "File \u001b[1;32mc:\\Python310\\lib\\site-packages\\sqlalchemy\\util\\compat.py:211\u001b[0m, in \u001b[0;36mraise_\u001b[1;34m(***failed resolving arguments***)\u001b[0m\n\u001b[0;32m    208\u001b[0m     exception\u001b[39m.\u001b[39m__cause__ \u001b[39m=\u001b[39m replace_context\n\u001b[0;32m    210\u001b[0m \u001b[39mtry\u001b[39;00m:\n\u001b[1;32m--> 211\u001b[0m     \u001b[39mraise\u001b[39;00m exception\n\u001b[0;32m    212\u001b[0m \u001b[39mfinally\u001b[39;00m:\n\u001b[0;32m    213\u001b[0m     \u001b[39m# credit to\u001b[39;00m\n\u001b[0;32m    214\u001b[0m     \u001b[39m# https://cosmicpercolator.com/2016/01/13/exception-leaks-in-python-2-and-3/\u001b[39;00m\n\u001b[0;32m    215\u001b[0m     \u001b[39m# as the __traceback__ object creates a cycle\u001b[39;00m\n\u001b[0;32m    216\u001b[0m     \u001b[39mdel\u001b[39;00m exception, replace_context, from_, with_traceback\n",
      "File \u001b[1;32mc:\\Python310\\lib\\site-packages\\sqlalchemy\\engine\\base.py:1910\u001b[0m, in \u001b[0;36mConnection._execute_context\u001b[1;34m(self, dialect, constructor, statement, parameters, execution_options, *args, **kw)\u001b[0m\n\u001b[0;32m   1908\u001b[0m                 \u001b[39mbreak\u001b[39;00m\n\u001b[0;32m   1909\u001b[0m     \u001b[39mif\u001b[39;00m \u001b[39mnot\u001b[39;00m evt_handled:\n\u001b[1;32m-> 1910\u001b[0m         \u001b[39mself\u001b[39;49m\u001b[39m.\u001b[39;49mdialect\u001b[39m.\u001b[39;49mdo_execute(\n\u001b[0;32m   1911\u001b[0m             cursor, statement, parameters, context\n\u001b[0;32m   1912\u001b[0m         )\n\u001b[0;32m   1914\u001b[0m \u001b[39mif\u001b[39;00m \u001b[39mself\u001b[39m\u001b[39m.\u001b[39m_has_events \u001b[39mor\u001b[39;00m \u001b[39mself\u001b[39m\u001b[39m.\u001b[39mengine\u001b[39m.\u001b[39m_has_events:\n\u001b[0;32m   1915\u001b[0m     \u001b[39mself\u001b[39m\u001b[39m.\u001b[39mdispatch\u001b[39m.\u001b[39mafter_cursor_execute(\n\u001b[0;32m   1916\u001b[0m         \u001b[39mself\u001b[39m,\n\u001b[0;32m   1917\u001b[0m         cursor,\n\u001b[1;32m   (...)\u001b[0m\n\u001b[0;32m   1921\u001b[0m         context\u001b[39m.\u001b[39mexecutemany,\n\u001b[0;32m   1922\u001b[0m     )\n",
      "File \u001b[1;32mc:\\Python310\\lib\\site-packages\\sqlalchemy\\engine\\default.py:736\u001b[0m, in \u001b[0;36mDefaultDialect.do_execute\u001b[1;34m(self, cursor, statement, parameters, context)\u001b[0m\n\u001b[0;32m    735\u001b[0m \u001b[39mdef\u001b[39;00m \u001b[39mdo_execute\u001b[39m(\u001b[39mself\u001b[39m, cursor, statement, parameters, context\u001b[39m=\u001b[39m\u001b[39mNone\u001b[39;00m):\n\u001b[1;32m--> 736\u001b[0m     cursor\u001b[39m.\u001b[39;49mexecute(statement, parameters)\n",
      "\u001b[1;31mProgrammingError\u001b[0m: (psycopg2.errors.UndefinedColumn) column prod.product_code does not exist\nLINE 13:   ON ord.product_code = prod.product_code\n                                 ^\nHINT:  Perhaps you meant to reference the column \"ord.product_code\".\n\n[SQL: \nSELECT\n\tROUND(CAST(SUM(spend) AS numeric), 2) AS total_sales,\n\tmonth\nFROM (\n\tSELECT \n\t\tord.product_quantity * prod.product_price AS spend,\n\t\tdt.month\n\tFROM orders_table ord\n\tINNER JOIN dim_date_times dt\n\t\tON ord.date_uuid = dt.date_uuid\n\tINNER JOIN dim_products prod\n\t\tON ord.product_code = prod.product_code\n) x\nGROUP BY month\nORDER BY total_sales DESC;\n]\n(Background on this error at: https://sqlalche.me/e/14/f405)"
     ]
    }
   ],
   "source": [
    "sql = '''\n",
    "SELECT\n",
    "\tROUND(CAST(SUM(spend) AS numeric), 2) AS total_sales,\n",
    "\tmonth\n",
    "FROM (\n",
    "\tSELECT \n",
    "\t\tord.product_quantity * prod.product_price AS spend,\n",
    "\t\tdt.month\n",
    "\tFROM orders_table ord\n",
    "\tINNER JOIN dim_date_times dt\n",
    "\t\tON ord.date_uuid = dt.date_uuid\n",
    "\tINNER JOIN dim_products prod\n",
    "\t\tON ord.product_code = prod.product_code\n",
    ") x\n",
    "GROUP BY month\n",
    "ORDER BY total_sales DESC;\n",
    "'''\n",
    "\n",
    "execute(sql)"
   ]
  },
  {
   "cell_type": "markdown",
   "metadata": {},
   "source": [
    "4. How many sales are coming from online?"
   ]
  },
  {
   "cell_type": "code",
   "execution_count": 6,
   "metadata": {},
   "outputs": [
    {
     "name": "stdout",
     "output_type": "stream",
     "text": [
      "   numbers_of_sales  product_quantity_count location\n",
      "0             26957                107739.0      Web\n",
      "1             93166                374047.0  Offline\n"
     ]
    }
   ],
   "source": [
    "sql = '''\n",
    "SELECT\n",
    "\tCOUNT(*) AS numbers_of_sales,\n",
    "\tSUM(product_quantity) AS product_quantity_count,\n",
    "\tlocation\n",
    "FROM (\n",
    "\tSELECT \n",
    "\t\tord.product_quantity,\n",
    "\t\tCASE\n",
    "\t\t\tWHEN st.store_type = 'Web Portal' THEN 'Web'\n",
    "\t\t\tELSE 'Offline'\n",
    "\t\tEND AS location\n",
    "\tFROM orders_table ord\n",
    "\tINNER JOIN dim_store_details st\n",
    "\t\tON ord.store_code = st.store_code\n",
    ") x\n",
    "GROUP BY location\n",
    "ORDER BY location DESC;\n",
    "''' \n",
    "\n",
    "execute(sql)"
   ]
  },
  {
   "cell_type": "markdown",
   "metadata": {},
   "source": [
    "5. What percentage of sales come through each type of store?"
   ]
  },
  {
   "cell_type": "code",
   "execution_count": 13,
   "metadata": {},
   "outputs": [
    {
     "name": "stdout",
     "output_type": "stream",
     "text": [
      "    store_type  total_sales  percentage_total\n",
      "0        Local        53894             44.87\n",
      "1   Web Portal        26957             22.44\n",
      "2  Super Store        18779             15.63\n",
      "3   Mall Kiosk        10762              8.96\n",
      "4       Outlet         9731              8.10\n"
     ]
    }
   ],
   "source": [
    "sql = ''' \n",
    "SELECT \n",
    "    dim_store_details.store_type,\n",
    "    COUNT(*) AS total_sales,\n",
    "    ROUND(COUNT(*) * 100.0/SUM(COUNT(*)) OVER (),2) AS percentage_total -- calculates the ratio of the count of rows for each sales type to the total count of all rows in the result set.\n",
    "    \n",
    "  FROM \n",
    "    orders_table \n",
    "    INNER JOIN dim_store_details ON orders_table.store_code = dim_store_details.store_code\n",
    "  GROUP BY\n",
    "    dim_store_details.store_type\n",
    "  ORDER BY percentage_total DESC;\n",
    "\n",
    "''' \n",
    "\n",
    "execute(sql)"
   ]
  },
  {
   "cell_type": "markdown",
   "metadata": {},
   "source": [
    "6. Which months produced the highest sales?"
   ]
  },
  {
   "cell_type": "code",
   "execution_count": 8,
   "metadata": {},
   "outputs": [
    {
     "ename": "ProgrammingError",
     "evalue": "(psycopg2.errors.UndefinedColumn) column prod.product_code does not exist\nLINE 13:   ON ord.product_code = prod.product_code\n                                 ^\nHINT:  Perhaps you meant to reference the column \"ord.product_code\".\n\n[SQL:  \nSELECT\n\tROUND(CAST(SUM(sale) AS NUMERIC), 2) AS total_sales,\n\tyear,\n\tmonth\nFROM (\n\tSELECT \n\t\tdt.year,\n\t\tdt.month,\n\t\tord.product_quantity * prod.product_price AS sale\n\tFROM orders_table ord\n\tINNER JOIN dim_products prod\n\t\tON ord.product_code = prod.product_code\n\tINNER JOIN dim_date_times dt\n\t\tON ord.date_uuid = dt.date_uuid\n) x\nGROUP BY year, month\nORDER BY total_sales DESC\nLIMIT 10;\n]\n(Background on this error at: https://sqlalche.me/e/14/f405)",
     "output_type": "error",
     "traceback": [
      "\u001b[1;31m---------------------------------------------------------------------------\u001b[0m",
      "\u001b[1;31mUndefinedColumn\u001b[0m                           Traceback (most recent call last)",
      "File \u001b[1;32mc:\\Python310\\lib\\site-packages\\sqlalchemy\\engine\\base.py:1910\u001b[0m, in \u001b[0;36mConnection._execute_context\u001b[1;34m(self, dialect, constructor, statement, parameters, execution_options, *args, **kw)\u001b[0m\n\u001b[0;32m   1909\u001b[0m     \u001b[39mif\u001b[39;00m \u001b[39mnot\u001b[39;00m evt_handled:\n\u001b[1;32m-> 1910\u001b[0m         \u001b[39mself\u001b[39;49m\u001b[39m.\u001b[39;49mdialect\u001b[39m.\u001b[39;49mdo_execute(\n\u001b[0;32m   1911\u001b[0m             cursor, statement, parameters, context\n\u001b[0;32m   1912\u001b[0m         )\n\u001b[0;32m   1914\u001b[0m \u001b[39mif\u001b[39;00m \u001b[39mself\u001b[39m\u001b[39m.\u001b[39m_has_events \u001b[39mor\u001b[39;00m \u001b[39mself\u001b[39m\u001b[39m.\u001b[39mengine\u001b[39m.\u001b[39m_has_events:\n",
      "File \u001b[1;32mc:\\Python310\\lib\\site-packages\\sqlalchemy\\engine\\default.py:736\u001b[0m, in \u001b[0;36mDefaultDialect.do_execute\u001b[1;34m(self, cursor, statement, parameters, context)\u001b[0m\n\u001b[0;32m    735\u001b[0m \u001b[39mdef\u001b[39;00m \u001b[39mdo_execute\u001b[39m(\u001b[39mself\u001b[39m, cursor, statement, parameters, context\u001b[39m=\u001b[39m\u001b[39mNone\u001b[39;00m):\n\u001b[1;32m--> 736\u001b[0m     cursor\u001b[39m.\u001b[39;49mexecute(statement, parameters)\n",
      "\u001b[1;31mUndefinedColumn\u001b[0m: column prod.product_code does not exist\nLINE 13:   ON ord.product_code = prod.product_code\n                                 ^\nHINT:  Perhaps you meant to reference the column \"ord.product_code\".\n",
      "\nThe above exception was the direct cause of the following exception:\n",
      "\u001b[1;31mProgrammingError\u001b[0m                          Traceback (most recent call last)",
      "\u001b[1;32mc:\\Users\\mezie\\OneDrive\\desktop\\Bootcamp-23-challenges\\multinational-retail-data-centralisation\\03_create_business_metrics.ipynb Cell 14\u001b[0m line \u001b[0;36m2\n\u001b[0;32m      <a href='vscode-notebook-cell:/c%3A/Users/mezie/OneDrive/desktop/Bootcamp-23-challenges/multinational-retail-data-centralisation/03_create_business_metrics.ipynb#X16sZmlsZQ%3D%3D?line=0'>1</a>\u001b[0m sql \u001b[39m=\u001b[39m \u001b[39m'''\u001b[39m\u001b[39m \u001b[39m\n\u001b[0;32m      <a href='vscode-notebook-cell:/c%3A/Users/mezie/OneDrive/desktop/Bootcamp-23-challenges/multinational-retail-data-centralisation/03_create_business_metrics.ipynb#X16sZmlsZQ%3D%3D?line=1'>2</a>\u001b[0m \u001b[39mSELECT\u001b[39m\n\u001b[0;32m      <a href='vscode-notebook-cell:/c%3A/Users/mezie/OneDrive/desktop/Bootcamp-23-challenges/multinational-retail-data-centralisation/03_create_business_metrics.ipynb#X16sZmlsZQ%3D%3D?line=2'>3</a>\u001b[0m \u001b[39m\tROUND(CAST(SUM(sale) AS NUMERIC), 2) AS total_sales,\u001b[39m\n\u001b[1;32m   (...)\u001b[0m\n\u001b[0;32m     <a href='vscode-notebook-cell:/c%3A/Users/mezie/OneDrive/desktop/Bootcamp-23-challenges/multinational-retail-data-centralisation/03_create_business_metrics.ipynb#X16sZmlsZQ%3D%3D?line=18'>19</a>\u001b[0m \u001b[39mLIMIT 10;\u001b[39m\n\u001b[0;32m     <a href='vscode-notebook-cell:/c%3A/Users/mezie/OneDrive/desktop/Bootcamp-23-challenges/multinational-retail-data-centralisation/03_create_business_metrics.ipynb#X16sZmlsZQ%3D%3D?line=19'>20</a>\u001b[0m \u001b[39m'''\u001b[39m \n\u001b[1;32m---> <a href='vscode-notebook-cell:/c%3A/Users/mezie/OneDrive/desktop/Bootcamp-23-challenges/multinational-retail-data-centralisation/03_create_business_metrics.ipynb#X16sZmlsZQ%3D%3D?line=21'>22</a>\u001b[0m execute(sql)\n",
      "\u001b[1;32mc:\\Users\\mezie\\OneDrive\\desktop\\Bootcamp-23-challenges\\multinational-retail-data-centralisation\\03_create_business_metrics.ipynb Cell 14\u001b[0m line \u001b[0;36m2\n\u001b[0;32m     <a href='vscode-notebook-cell:/c%3A/Users/mezie/OneDrive/desktop/Bootcamp-23-challenges/multinational-retail-data-centralisation/03_create_business_metrics.ipynb#X16sZmlsZQ%3D%3D?line=12'>13</a>\u001b[0m \u001b[39m\u001b[39m\u001b[39m'''Helper function for executing SQL and printing results.\u001b[39;00m\n\u001b[0;32m     <a href='vscode-notebook-cell:/c%3A/Users/mezie/OneDrive/desktop/Bootcamp-23-challenges/multinational-retail-data-centralisation/03_create_business_metrics.ipynb#X16sZmlsZQ%3D%3D?line=13'>14</a>\u001b[0m \n\u001b[0;32m     <a href='vscode-notebook-cell:/c%3A/Users/mezie/OneDrive/desktop/Bootcamp-23-challenges/multinational-retail-data-centralisation/03_create_business_metrics.ipynb#X16sZmlsZQ%3D%3D?line=14'>15</a>\u001b[0m \u001b[39mArguments:\u001b[39;00m\n\u001b[1;32m   (...)\u001b[0m\n\u001b[0;32m     <a href='vscode-notebook-cell:/c%3A/Users/mezie/OneDrive/desktop/Bootcamp-23-challenges/multinational-retail-data-centralisation/03_create_business_metrics.ipynb#X16sZmlsZQ%3D%3D?line=17'>18</a>\u001b[0m \u001b[39mReturns:\u001b[39;00m\n\u001b[0;32m     <a href='vscode-notebook-cell:/c%3A/Users/mezie/OneDrive/desktop/Bootcamp-23-challenges/multinational-retail-data-centralisation/03_create_business_metrics.ipynb#X16sZmlsZQ%3D%3D?line=18'>19</a>\u001b[0m \u001b[39m    None'''\u001b[39;00m\n\u001b[0;32m     <a href='vscode-notebook-cell:/c%3A/Users/mezie/OneDrive/desktop/Bootcamp-23-challenges/multinational-retail-data-centralisation/03_create_business_metrics.ipynb#X16sZmlsZQ%3D%3D?line=20'>21</a>\u001b[0m \u001b[39mwith\u001b[39;00m engine\u001b[39m.\u001b[39mconnect() \u001b[39mas\u001b[39;00m con:\n\u001b[1;32m---> <a href='vscode-notebook-cell:/c%3A/Users/mezie/OneDrive/desktop/Bootcamp-23-challenges/multinational-retail-data-centralisation/03_create_business_metrics.ipynb#X16sZmlsZQ%3D%3D?line=21'>22</a>\u001b[0m     df \u001b[39m=\u001b[39m pd\u001b[39m.\u001b[39;49mread_sql_query(sql\u001b[39m=\u001b[39;49mtext(sql), con\u001b[39m=\u001b[39;49mcon)\n\u001b[0;32m     <a href='vscode-notebook-cell:/c%3A/Users/mezie/OneDrive/desktop/Bootcamp-23-challenges/multinational-retail-data-centralisation/03_create_business_metrics.ipynb#X16sZmlsZQ%3D%3D?line=22'>23</a>\u001b[0m     \u001b[39mprint\u001b[39m(df)\n",
      "File \u001b[1;32mc:\\Python310\\lib\\site-packages\\pandas\\io\\sql.py:486\u001b[0m, in \u001b[0;36mread_sql_query\u001b[1;34m(sql, con, index_col, coerce_float, params, parse_dates, chunksize, dtype, dtype_backend)\u001b[0m\n\u001b[0;32m    483\u001b[0m \u001b[39massert\u001b[39;00m dtype_backend \u001b[39mis\u001b[39;00m \u001b[39mnot\u001b[39;00m lib\u001b[39m.\u001b[39mno_default\n\u001b[0;32m    485\u001b[0m \u001b[39mwith\u001b[39;00m pandasSQL_builder(con) \u001b[39mas\u001b[39;00m pandas_sql:\n\u001b[1;32m--> 486\u001b[0m     \u001b[39mreturn\u001b[39;00m pandas_sql\u001b[39m.\u001b[39;49mread_query(\n\u001b[0;32m    487\u001b[0m         sql,\n\u001b[0;32m    488\u001b[0m         index_col\u001b[39m=\u001b[39;49mindex_col,\n\u001b[0;32m    489\u001b[0m         params\u001b[39m=\u001b[39;49mparams,\n\u001b[0;32m    490\u001b[0m         coerce_float\u001b[39m=\u001b[39;49mcoerce_float,\n\u001b[0;32m    491\u001b[0m         parse_dates\u001b[39m=\u001b[39;49mparse_dates,\n\u001b[0;32m    492\u001b[0m         chunksize\u001b[39m=\u001b[39;49mchunksize,\n\u001b[0;32m    493\u001b[0m         dtype\u001b[39m=\u001b[39;49mdtype,\n\u001b[0;32m    494\u001b[0m         dtype_backend\u001b[39m=\u001b[39;49mdtype_backend,\n\u001b[0;32m    495\u001b[0m     )\n",
      "File \u001b[1;32mc:\\Python310\\lib\\site-packages\\pandas\\io\\sql.py:1776\u001b[0m, in \u001b[0;36mSQLDatabase.read_query\u001b[1;34m(self, sql, index_col, coerce_float, parse_dates, params, chunksize, dtype, dtype_backend)\u001b[0m\n\u001b[0;32m   1719\u001b[0m \u001b[39mdef\u001b[39;00m \u001b[39mread_query\u001b[39m(\n\u001b[0;32m   1720\u001b[0m     \u001b[39mself\u001b[39m,\n\u001b[0;32m   1721\u001b[0m     sql: \u001b[39mstr\u001b[39m,\n\u001b[1;32m   (...)\u001b[0m\n\u001b[0;32m   1728\u001b[0m     dtype_backend: DtypeBackend \u001b[39m|\u001b[39m Literal[\u001b[39m\"\u001b[39m\u001b[39mnumpy\u001b[39m\u001b[39m\"\u001b[39m] \u001b[39m=\u001b[39m \u001b[39m\"\u001b[39m\u001b[39mnumpy\u001b[39m\u001b[39m\"\u001b[39m,\n\u001b[0;32m   1729\u001b[0m ) \u001b[39m-\u001b[39m\u001b[39m>\u001b[39m DataFrame \u001b[39m|\u001b[39m Iterator[DataFrame]:\n\u001b[0;32m   1730\u001b[0m \u001b[39m    \u001b[39m\u001b[39m\"\"\"\u001b[39;00m\n\u001b[0;32m   1731\u001b[0m \u001b[39m    Read SQL query into a DataFrame.\u001b[39;00m\n\u001b[0;32m   1732\u001b[0m \n\u001b[1;32m   (...)\u001b[0m\n\u001b[0;32m   1774\u001b[0m \n\u001b[0;32m   1775\u001b[0m \u001b[39m    \"\"\"\u001b[39;00m\n\u001b[1;32m-> 1776\u001b[0m     result \u001b[39m=\u001b[39m \u001b[39mself\u001b[39;49m\u001b[39m.\u001b[39;49mexecute(sql, params)\n\u001b[0;32m   1777\u001b[0m     columns \u001b[39m=\u001b[39m result\u001b[39m.\u001b[39mkeys()\n\u001b[0;32m   1779\u001b[0m     \u001b[39mif\u001b[39;00m chunksize \u001b[39mis\u001b[39;00m \u001b[39mnot\u001b[39;00m \u001b[39mNone\u001b[39;00m:\n",
      "File \u001b[1;32mc:\\Python310\\lib\\site-packages\\pandas\\io\\sql.py:1600\u001b[0m, in \u001b[0;36mSQLDatabase.execute\u001b[1;34m(self, sql, params)\u001b[0m\n\u001b[0;32m   1598\u001b[0m \u001b[39mif\u001b[39;00m \u001b[39misinstance\u001b[39m(sql, \u001b[39mstr\u001b[39m):\n\u001b[0;32m   1599\u001b[0m     \u001b[39mreturn\u001b[39;00m \u001b[39mself\u001b[39m\u001b[39m.\u001b[39mcon\u001b[39m.\u001b[39mexec_driver_sql(sql, \u001b[39m*\u001b[39margs)\n\u001b[1;32m-> 1600\u001b[0m \u001b[39mreturn\u001b[39;00m \u001b[39mself\u001b[39;49m\u001b[39m.\u001b[39;49mcon\u001b[39m.\u001b[39;49mexecute(sql, \u001b[39m*\u001b[39;49margs)\n",
      "File \u001b[1;32mc:\\Python310\\lib\\site-packages\\sqlalchemy\\engine\\base.py:1385\u001b[0m, in \u001b[0;36mConnection.execute\u001b[1;34m(self, statement, *multiparams, **params)\u001b[0m\n\u001b[0;32m   1381\u001b[0m     util\u001b[39m.\u001b[39mraise_(\n\u001b[0;32m   1382\u001b[0m         exc\u001b[39m.\u001b[39mObjectNotExecutableError(statement), replace_context\u001b[39m=\u001b[39merr\n\u001b[0;32m   1383\u001b[0m     )\n\u001b[0;32m   1384\u001b[0m \u001b[39melse\u001b[39;00m:\n\u001b[1;32m-> 1385\u001b[0m     \u001b[39mreturn\u001b[39;00m meth(\u001b[39mself\u001b[39;49m, multiparams, params, _EMPTY_EXECUTION_OPTS)\n",
      "File \u001b[1;32mc:\\Python310\\lib\\site-packages\\sqlalchemy\\sql\\elements.py:334\u001b[0m, in \u001b[0;36mClauseElement._execute_on_connection\u001b[1;34m(self, connection, multiparams, params, execution_options, _force)\u001b[0m\n\u001b[0;32m    330\u001b[0m \u001b[39mdef\u001b[39;00m \u001b[39m_execute_on_connection\u001b[39m(\n\u001b[0;32m    331\u001b[0m     \u001b[39mself\u001b[39m, connection, multiparams, params, execution_options, _force\u001b[39m=\u001b[39m\u001b[39mFalse\u001b[39;00m\n\u001b[0;32m    332\u001b[0m ):\n\u001b[0;32m    333\u001b[0m     \u001b[39mif\u001b[39;00m _force \u001b[39mor\u001b[39;00m \u001b[39mself\u001b[39m\u001b[39m.\u001b[39msupports_execution:\n\u001b[1;32m--> 334\u001b[0m         \u001b[39mreturn\u001b[39;00m connection\u001b[39m.\u001b[39;49m_execute_clauseelement(\n\u001b[0;32m    335\u001b[0m             \u001b[39mself\u001b[39;49m, multiparams, params, execution_options\n\u001b[0;32m    336\u001b[0m         )\n\u001b[0;32m    337\u001b[0m     \u001b[39melse\u001b[39;00m:\n\u001b[0;32m    338\u001b[0m         \u001b[39mraise\u001b[39;00m exc\u001b[39m.\u001b[39mObjectNotExecutableError(\u001b[39mself\u001b[39m)\n",
      "File \u001b[1;32mc:\\Python310\\lib\\site-packages\\sqlalchemy\\engine\\base.py:1577\u001b[0m, in \u001b[0;36mConnection._execute_clauseelement\u001b[1;34m(self, elem, multiparams, params, execution_options)\u001b[0m\n\u001b[0;32m   1565\u001b[0m compiled_cache \u001b[39m=\u001b[39m execution_options\u001b[39m.\u001b[39mget(\n\u001b[0;32m   1566\u001b[0m     \u001b[39m\"\u001b[39m\u001b[39mcompiled_cache\u001b[39m\u001b[39m\"\u001b[39m, \u001b[39mself\u001b[39m\u001b[39m.\u001b[39mengine\u001b[39m.\u001b[39m_compiled_cache\n\u001b[0;32m   1567\u001b[0m )\n\u001b[0;32m   1569\u001b[0m compiled_sql, extracted_params, cache_hit \u001b[39m=\u001b[39m elem\u001b[39m.\u001b[39m_compile_w_cache(\n\u001b[0;32m   1570\u001b[0m     dialect\u001b[39m=\u001b[39mdialect,\n\u001b[0;32m   1571\u001b[0m     compiled_cache\u001b[39m=\u001b[39mcompiled_cache,\n\u001b[1;32m   (...)\u001b[0m\n\u001b[0;32m   1575\u001b[0m     linting\u001b[39m=\u001b[39m\u001b[39mself\u001b[39m\u001b[39m.\u001b[39mdialect\u001b[39m.\u001b[39mcompiler_linting \u001b[39m|\u001b[39m compiler\u001b[39m.\u001b[39mWARN_LINTING,\n\u001b[0;32m   1576\u001b[0m )\n\u001b[1;32m-> 1577\u001b[0m ret \u001b[39m=\u001b[39m \u001b[39mself\u001b[39;49m\u001b[39m.\u001b[39;49m_execute_context(\n\u001b[0;32m   1578\u001b[0m     dialect,\n\u001b[0;32m   1579\u001b[0m     dialect\u001b[39m.\u001b[39;49mexecution_ctx_cls\u001b[39m.\u001b[39;49m_init_compiled,\n\u001b[0;32m   1580\u001b[0m     compiled_sql,\n\u001b[0;32m   1581\u001b[0m     distilled_params,\n\u001b[0;32m   1582\u001b[0m     execution_options,\n\u001b[0;32m   1583\u001b[0m     compiled_sql,\n\u001b[0;32m   1584\u001b[0m     distilled_params,\n\u001b[0;32m   1585\u001b[0m     elem,\n\u001b[0;32m   1586\u001b[0m     extracted_params,\n\u001b[0;32m   1587\u001b[0m     cache_hit\u001b[39m=\u001b[39;49mcache_hit,\n\u001b[0;32m   1588\u001b[0m )\n\u001b[0;32m   1589\u001b[0m \u001b[39mif\u001b[39;00m has_events:\n\u001b[0;32m   1590\u001b[0m     \u001b[39mself\u001b[39m\u001b[39m.\u001b[39mdispatch\u001b[39m.\u001b[39mafter_execute(\n\u001b[0;32m   1591\u001b[0m         \u001b[39mself\u001b[39m,\n\u001b[0;32m   1592\u001b[0m         elem,\n\u001b[1;32m   (...)\u001b[0m\n\u001b[0;32m   1596\u001b[0m         ret,\n\u001b[0;32m   1597\u001b[0m     )\n",
      "File \u001b[1;32mc:\\Python310\\lib\\site-packages\\sqlalchemy\\engine\\base.py:1953\u001b[0m, in \u001b[0;36mConnection._execute_context\u001b[1;34m(self, dialect, constructor, statement, parameters, execution_options, *args, **kw)\u001b[0m\n\u001b[0;32m   1950\u001b[0m             branched\u001b[39m.\u001b[39mclose()\n\u001b[0;32m   1952\u001b[0m \u001b[39mexcept\u001b[39;00m \u001b[39mBaseException\u001b[39;00m \u001b[39mas\u001b[39;00m e:\n\u001b[1;32m-> 1953\u001b[0m     \u001b[39mself\u001b[39;49m\u001b[39m.\u001b[39;49m_handle_dbapi_exception(\n\u001b[0;32m   1954\u001b[0m         e, statement, parameters, cursor, context\n\u001b[0;32m   1955\u001b[0m     )\n\u001b[0;32m   1957\u001b[0m \u001b[39mreturn\u001b[39;00m result\n",
      "File \u001b[1;32mc:\\Python310\\lib\\site-packages\\sqlalchemy\\engine\\base.py:2134\u001b[0m, in \u001b[0;36mConnection._handle_dbapi_exception\u001b[1;34m(self, e, statement, parameters, cursor, context)\u001b[0m\n\u001b[0;32m   2132\u001b[0m     util\u001b[39m.\u001b[39mraise_(newraise, with_traceback\u001b[39m=\u001b[39mexc_info[\u001b[39m2\u001b[39m], from_\u001b[39m=\u001b[39me)\n\u001b[0;32m   2133\u001b[0m \u001b[39melif\u001b[39;00m should_wrap:\n\u001b[1;32m-> 2134\u001b[0m     util\u001b[39m.\u001b[39;49mraise_(\n\u001b[0;32m   2135\u001b[0m         sqlalchemy_exception, with_traceback\u001b[39m=\u001b[39;49mexc_info[\u001b[39m2\u001b[39;49m], from_\u001b[39m=\u001b[39;49me\n\u001b[0;32m   2136\u001b[0m     )\n\u001b[0;32m   2137\u001b[0m \u001b[39melse\u001b[39;00m:\n\u001b[0;32m   2138\u001b[0m     util\u001b[39m.\u001b[39mraise_(exc_info[\u001b[39m1\u001b[39m], with_traceback\u001b[39m=\u001b[39mexc_info[\u001b[39m2\u001b[39m])\n",
      "File \u001b[1;32mc:\\Python310\\lib\\site-packages\\sqlalchemy\\util\\compat.py:211\u001b[0m, in \u001b[0;36mraise_\u001b[1;34m(***failed resolving arguments***)\u001b[0m\n\u001b[0;32m    208\u001b[0m     exception\u001b[39m.\u001b[39m__cause__ \u001b[39m=\u001b[39m replace_context\n\u001b[0;32m    210\u001b[0m \u001b[39mtry\u001b[39;00m:\n\u001b[1;32m--> 211\u001b[0m     \u001b[39mraise\u001b[39;00m exception\n\u001b[0;32m    212\u001b[0m \u001b[39mfinally\u001b[39;00m:\n\u001b[0;32m    213\u001b[0m     \u001b[39m# credit to\u001b[39;00m\n\u001b[0;32m    214\u001b[0m     \u001b[39m# https://cosmicpercolator.com/2016/01/13/exception-leaks-in-python-2-and-3/\u001b[39;00m\n\u001b[0;32m    215\u001b[0m     \u001b[39m# as the __traceback__ object creates a cycle\u001b[39;00m\n\u001b[0;32m    216\u001b[0m     \u001b[39mdel\u001b[39;00m exception, replace_context, from_, with_traceback\n",
      "File \u001b[1;32mc:\\Python310\\lib\\site-packages\\sqlalchemy\\engine\\base.py:1910\u001b[0m, in \u001b[0;36mConnection._execute_context\u001b[1;34m(self, dialect, constructor, statement, parameters, execution_options, *args, **kw)\u001b[0m\n\u001b[0;32m   1908\u001b[0m                 \u001b[39mbreak\u001b[39;00m\n\u001b[0;32m   1909\u001b[0m     \u001b[39mif\u001b[39;00m \u001b[39mnot\u001b[39;00m evt_handled:\n\u001b[1;32m-> 1910\u001b[0m         \u001b[39mself\u001b[39;49m\u001b[39m.\u001b[39;49mdialect\u001b[39m.\u001b[39;49mdo_execute(\n\u001b[0;32m   1911\u001b[0m             cursor, statement, parameters, context\n\u001b[0;32m   1912\u001b[0m         )\n\u001b[0;32m   1914\u001b[0m \u001b[39mif\u001b[39;00m \u001b[39mself\u001b[39m\u001b[39m.\u001b[39m_has_events \u001b[39mor\u001b[39;00m \u001b[39mself\u001b[39m\u001b[39m.\u001b[39mengine\u001b[39m.\u001b[39m_has_events:\n\u001b[0;32m   1915\u001b[0m     \u001b[39mself\u001b[39m\u001b[39m.\u001b[39mdispatch\u001b[39m.\u001b[39mafter_cursor_execute(\n\u001b[0;32m   1916\u001b[0m         \u001b[39mself\u001b[39m,\n\u001b[0;32m   1917\u001b[0m         cursor,\n\u001b[1;32m   (...)\u001b[0m\n\u001b[0;32m   1921\u001b[0m         context\u001b[39m.\u001b[39mexecutemany,\n\u001b[0;32m   1922\u001b[0m     )\n",
      "File \u001b[1;32mc:\\Python310\\lib\\site-packages\\sqlalchemy\\engine\\default.py:736\u001b[0m, in \u001b[0;36mDefaultDialect.do_execute\u001b[1;34m(self, cursor, statement, parameters, context)\u001b[0m\n\u001b[0;32m    735\u001b[0m \u001b[39mdef\u001b[39;00m \u001b[39mdo_execute\u001b[39m(\u001b[39mself\u001b[39m, cursor, statement, parameters, context\u001b[39m=\u001b[39m\u001b[39mNone\u001b[39;00m):\n\u001b[1;32m--> 736\u001b[0m     cursor\u001b[39m.\u001b[39;49mexecute(statement, parameters)\n",
      "\u001b[1;31mProgrammingError\u001b[0m: (psycopg2.errors.UndefinedColumn) column prod.product_code does not exist\nLINE 13:   ON ord.product_code = prod.product_code\n                                 ^\nHINT:  Perhaps you meant to reference the column \"ord.product_code\".\n\n[SQL:  \nSELECT\n\tROUND(CAST(SUM(sale) AS NUMERIC), 2) AS total_sales,\n\tyear,\n\tmonth\nFROM (\n\tSELECT \n\t\tdt.year,\n\t\tdt.month,\n\t\tord.product_quantity * prod.product_price AS sale\n\tFROM orders_table ord\n\tINNER JOIN dim_products prod\n\t\tON ord.product_code = prod.product_code\n\tINNER JOIN dim_date_times dt\n\t\tON ord.date_uuid = dt.date_uuid\n) x\nGROUP BY year, month\nORDER BY total_sales DESC\nLIMIT 10;\n]\n(Background on this error at: https://sqlalche.me/e/14/f405)"
     ]
    }
   ],
   "source": [
    "sql = ''' \n",
    "SELECT\n",
    "\tROUND(CAST(SUM(sale) AS NUMERIC), 2) AS total_sales,\n",
    "\tyear,\n",
    "\tmonth\n",
    "FROM (\n",
    "\tSELECT \n",
    "\t\tdt.year,\n",
    "\t\tdt.month,\n",
    "\t\tord.product_quantity * prod.product_price AS sale\n",
    "\tFROM orders_table ord\n",
    "\tINNER JOIN dim_products prod\n",
    "\t\tON ord.product_code = prod.product_code\n",
    "\tINNER JOIN dim_date_times dt\n",
    "\t\tON ord.date_uuid = dt.date_uuid\n",
    ") x\n",
    "GROUP BY year, month\n",
    "ORDER BY total_sales DESC\n",
    "LIMIT 10;\n",
    "''' \n",
    "\n",
    "execute(sql)"
   ]
  },
  {
   "cell_type": "markdown",
   "metadata": {},
   "source": [
    "7. What is our staff headcount?"
   ]
  },
  {
   "cell_type": "code",
   "execution_count": 9,
   "metadata": {},
   "outputs": [
    {
     "name": "stdout",
     "output_type": "stream",
     "text": [
      "   total_staff_numbers country_code\n",
      "0              13132.0           GB\n",
      "1               6054.0           DE\n",
      "2               1304.0           US\n"
     ]
    }
   ],
   "source": [
    "sql = ''' \n",
    "SELECT \n",
    "\tSUM(staff_numbers) AS total_staff_numbers,\n",
    "\tcountry_code\n",
    "FROM dim_store_details\n",
    "GROUP BY country_code\n",
    "ORDER BY total_staff_numbers DESC;\n",
    "'''\n",
    "\n",
    "execute(sql)"
   ]
  },
  {
   "cell_type": "markdown",
   "metadata": {},
   "source": [
    "8. Which German store type is selling the most?"
   ]
  },
  {
   "cell_type": "code",
   "execution_count": 11,
   "metadata": {},
   "outputs": [
    {
     "ename": "ProgrammingError",
     "evalue": "(psycopg2.errors.UndefinedColumn) column prod.product_code does not exist\nLINE 19:  ON ord.product_code = prod.product_code\n                                ^\nHINT:  Perhaps you meant to reference the column \"ord.product_code\".\n\n[SQL:  \nSELECT \n\tROUND(CAST(SUM(sale) AS NUMERIC), 2) AS total_sales,\n\tstore_type,\n\tcountry_code\nFROM (\nSELECT\n\tst.store_type,\n\tst.country_code,\n\tord.product_quantity * prod.product_price AS sale\nFROM orders_table ord\nINNER JOIN (\n\tSELECT store_code, store_type, country_code\n\tFROM dim_store_details \n\tWHERE country_code = 'DE'\n\t) st\n\tON ord.store_code = st.store_code\nINNER JOIN dim_products prod\n\tON ord.product_code = prod.product_code\n) x\nGROUP BY \n\tstore_type,\n\tcountry_code\nORDER BY \n\ttotal_sales;\n]\n(Background on this error at: https://sqlalche.me/e/14/f405)",
     "output_type": "error",
     "traceback": [
      "\u001b[1;31m---------------------------------------------------------------------------\u001b[0m",
      "\u001b[1;31mUndefinedColumn\u001b[0m                           Traceback (most recent call last)",
      "File \u001b[1;32mc:\\Python310\\lib\\site-packages\\sqlalchemy\\engine\\base.py:1910\u001b[0m, in \u001b[0;36mConnection._execute_context\u001b[1;34m(self, dialect, constructor, statement, parameters, execution_options, *args, **kw)\u001b[0m\n\u001b[0;32m   1909\u001b[0m     \u001b[39mif\u001b[39;00m \u001b[39mnot\u001b[39;00m evt_handled:\n\u001b[1;32m-> 1910\u001b[0m         \u001b[39mself\u001b[39;49m\u001b[39m.\u001b[39;49mdialect\u001b[39m.\u001b[39;49mdo_execute(\n\u001b[0;32m   1911\u001b[0m             cursor, statement, parameters, context\n\u001b[0;32m   1912\u001b[0m         )\n\u001b[0;32m   1914\u001b[0m \u001b[39mif\u001b[39;00m \u001b[39mself\u001b[39m\u001b[39m.\u001b[39m_has_events \u001b[39mor\u001b[39;00m \u001b[39mself\u001b[39m\u001b[39m.\u001b[39mengine\u001b[39m.\u001b[39m_has_events:\n",
      "File \u001b[1;32mc:\\Python310\\lib\\site-packages\\sqlalchemy\\engine\\default.py:736\u001b[0m, in \u001b[0;36mDefaultDialect.do_execute\u001b[1;34m(self, cursor, statement, parameters, context)\u001b[0m\n\u001b[0;32m    735\u001b[0m \u001b[39mdef\u001b[39;00m \u001b[39mdo_execute\u001b[39m(\u001b[39mself\u001b[39m, cursor, statement, parameters, context\u001b[39m=\u001b[39m\u001b[39mNone\u001b[39;00m):\n\u001b[1;32m--> 736\u001b[0m     cursor\u001b[39m.\u001b[39;49mexecute(statement, parameters)\n",
      "\u001b[1;31mUndefinedColumn\u001b[0m: column prod.product_code does not exist\nLINE 19:  ON ord.product_code = prod.product_code\n                                ^\nHINT:  Perhaps you meant to reference the column \"ord.product_code\".\n",
      "\nThe above exception was the direct cause of the following exception:\n",
      "\u001b[1;31mProgrammingError\u001b[0m                          Traceback (most recent call last)",
      "\u001b[1;32mc:\\Users\\mezie\\OneDrive\\desktop\\Bootcamp-23-challenges\\multinational-retail-data-centralisation\\03_create_business_metrics.ipynb Cell 18\u001b[0m line \u001b[0;36m2\n\u001b[0;32m      <a href='vscode-notebook-cell:/c%3A/Users/mezie/OneDrive/desktop/Bootcamp-23-challenges/multinational-retail-data-centralisation/03_create_business_metrics.ipynb#X23sZmlsZQ%3D%3D?line=0'>1</a>\u001b[0m sql \u001b[39m=\u001b[39m \u001b[39m'''\u001b[39m\u001b[39m \u001b[39m\n\u001b[0;32m      <a href='vscode-notebook-cell:/c%3A/Users/mezie/OneDrive/desktop/Bootcamp-23-challenges/multinational-retail-data-centralisation/03_create_business_metrics.ipynb#X23sZmlsZQ%3D%3D?line=1'>2</a>\u001b[0m \u001b[39mSELECT \u001b[39m\n\u001b[0;32m      <a href='vscode-notebook-cell:/c%3A/Users/mezie/OneDrive/desktop/Bootcamp-23-challenges/multinational-retail-data-centralisation/03_create_business_metrics.ipynb#X23sZmlsZQ%3D%3D?line=2'>3</a>\u001b[0m \u001b[39m\tROUND(CAST(SUM(sale) AS NUMERIC), 2) AS total_sales,\u001b[39m\n\u001b[1;32m   (...)\u001b[0m\n\u001b[0;32m     <a href='vscode-notebook-cell:/c%3A/Users/mezie/OneDrive/desktop/Bootcamp-23-challenges/multinational-retail-data-centralisation/03_create_business_metrics.ipynb#X23sZmlsZQ%3D%3D?line=24'>25</a>\u001b[0m \u001b[39m\ttotal_sales;\u001b[39m\n\u001b[0;32m     <a href='vscode-notebook-cell:/c%3A/Users/mezie/OneDrive/desktop/Bootcamp-23-challenges/multinational-retail-data-centralisation/03_create_business_metrics.ipynb#X23sZmlsZQ%3D%3D?line=25'>26</a>\u001b[0m \u001b[39m'''\u001b[39m \n\u001b[1;32m---> <a href='vscode-notebook-cell:/c%3A/Users/mezie/OneDrive/desktop/Bootcamp-23-challenges/multinational-retail-data-centralisation/03_create_business_metrics.ipynb#X23sZmlsZQ%3D%3D?line=27'>28</a>\u001b[0m execute(sql)\n",
      "\u001b[1;32mc:\\Users\\mezie\\OneDrive\\desktop\\Bootcamp-23-challenges\\multinational-retail-data-centralisation\\03_create_business_metrics.ipynb Cell 18\u001b[0m line \u001b[0;36m2\n\u001b[0;32m     <a href='vscode-notebook-cell:/c%3A/Users/mezie/OneDrive/desktop/Bootcamp-23-challenges/multinational-retail-data-centralisation/03_create_business_metrics.ipynb#X23sZmlsZQ%3D%3D?line=12'>13</a>\u001b[0m \u001b[39m\u001b[39m\u001b[39m'''Helper function for executing SQL and printing results.\u001b[39;00m\n\u001b[0;32m     <a href='vscode-notebook-cell:/c%3A/Users/mezie/OneDrive/desktop/Bootcamp-23-challenges/multinational-retail-data-centralisation/03_create_business_metrics.ipynb#X23sZmlsZQ%3D%3D?line=13'>14</a>\u001b[0m \n\u001b[0;32m     <a href='vscode-notebook-cell:/c%3A/Users/mezie/OneDrive/desktop/Bootcamp-23-challenges/multinational-retail-data-centralisation/03_create_business_metrics.ipynb#X23sZmlsZQ%3D%3D?line=14'>15</a>\u001b[0m \u001b[39mArguments:\u001b[39;00m\n\u001b[1;32m   (...)\u001b[0m\n\u001b[0;32m     <a href='vscode-notebook-cell:/c%3A/Users/mezie/OneDrive/desktop/Bootcamp-23-challenges/multinational-retail-data-centralisation/03_create_business_metrics.ipynb#X23sZmlsZQ%3D%3D?line=17'>18</a>\u001b[0m \u001b[39mReturns:\u001b[39;00m\n\u001b[0;32m     <a href='vscode-notebook-cell:/c%3A/Users/mezie/OneDrive/desktop/Bootcamp-23-challenges/multinational-retail-data-centralisation/03_create_business_metrics.ipynb#X23sZmlsZQ%3D%3D?line=18'>19</a>\u001b[0m \u001b[39m    None'''\u001b[39;00m\n\u001b[0;32m     <a href='vscode-notebook-cell:/c%3A/Users/mezie/OneDrive/desktop/Bootcamp-23-challenges/multinational-retail-data-centralisation/03_create_business_metrics.ipynb#X23sZmlsZQ%3D%3D?line=20'>21</a>\u001b[0m \u001b[39mwith\u001b[39;00m engine\u001b[39m.\u001b[39mconnect() \u001b[39mas\u001b[39;00m con:\n\u001b[1;32m---> <a href='vscode-notebook-cell:/c%3A/Users/mezie/OneDrive/desktop/Bootcamp-23-challenges/multinational-retail-data-centralisation/03_create_business_metrics.ipynb#X23sZmlsZQ%3D%3D?line=21'>22</a>\u001b[0m     df \u001b[39m=\u001b[39m pd\u001b[39m.\u001b[39;49mread_sql_query(sql\u001b[39m=\u001b[39;49mtext(sql), con\u001b[39m=\u001b[39;49mcon)\n\u001b[0;32m     <a href='vscode-notebook-cell:/c%3A/Users/mezie/OneDrive/desktop/Bootcamp-23-challenges/multinational-retail-data-centralisation/03_create_business_metrics.ipynb#X23sZmlsZQ%3D%3D?line=22'>23</a>\u001b[0m     \u001b[39mprint\u001b[39m(df)\n",
      "File \u001b[1;32mc:\\Python310\\lib\\site-packages\\pandas\\io\\sql.py:486\u001b[0m, in \u001b[0;36mread_sql_query\u001b[1;34m(sql, con, index_col, coerce_float, params, parse_dates, chunksize, dtype, dtype_backend)\u001b[0m\n\u001b[0;32m    483\u001b[0m \u001b[39massert\u001b[39;00m dtype_backend \u001b[39mis\u001b[39;00m \u001b[39mnot\u001b[39;00m lib\u001b[39m.\u001b[39mno_default\n\u001b[0;32m    485\u001b[0m \u001b[39mwith\u001b[39;00m pandasSQL_builder(con) \u001b[39mas\u001b[39;00m pandas_sql:\n\u001b[1;32m--> 486\u001b[0m     \u001b[39mreturn\u001b[39;00m pandas_sql\u001b[39m.\u001b[39;49mread_query(\n\u001b[0;32m    487\u001b[0m         sql,\n\u001b[0;32m    488\u001b[0m         index_col\u001b[39m=\u001b[39;49mindex_col,\n\u001b[0;32m    489\u001b[0m         params\u001b[39m=\u001b[39;49mparams,\n\u001b[0;32m    490\u001b[0m         coerce_float\u001b[39m=\u001b[39;49mcoerce_float,\n\u001b[0;32m    491\u001b[0m         parse_dates\u001b[39m=\u001b[39;49mparse_dates,\n\u001b[0;32m    492\u001b[0m         chunksize\u001b[39m=\u001b[39;49mchunksize,\n\u001b[0;32m    493\u001b[0m         dtype\u001b[39m=\u001b[39;49mdtype,\n\u001b[0;32m    494\u001b[0m         dtype_backend\u001b[39m=\u001b[39;49mdtype_backend,\n\u001b[0;32m    495\u001b[0m     )\n",
      "File \u001b[1;32mc:\\Python310\\lib\\site-packages\\pandas\\io\\sql.py:1776\u001b[0m, in \u001b[0;36mSQLDatabase.read_query\u001b[1;34m(self, sql, index_col, coerce_float, parse_dates, params, chunksize, dtype, dtype_backend)\u001b[0m\n\u001b[0;32m   1719\u001b[0m \u001b[39mdef\u001b[39;00m \u001b[39mread_query\u001b[39m(\n\u001b[0;32m   1720\u001b[0m     \u001b[39mself\u001b[39m,\n\u001b[0;32m   1721\u001b[0m     sql: \u001b[39mstr\u001b[39m,\n\u001b[1;32m   (...)\u001b[0m\n\u001b[0;32m   1728\u001b[0m     dtype_backend: DtypeBackend \u001b[39m|\u001b[39m Literal[\u001b[39m\"\u001b[39m\u001b[39mnumpy\u001b[39m\u001b[39m\"\u001b[39m] \u001b[39m=\u001b[39m \u001b[39m\"\u001b[39m\u001b[39mnumpy\u001b[39m\u001b[39m\"\u001b[39m,\n\u001b[0;32m   1729\u001b[0m ) \u001b[39m-\u001b[39m\u001b[39m>\u001b[39m DataFrame \u001b[39m|\u001b[39m Iterator[DataFrame]:\n\u001b[0;32m   1730\u001b[0m \u001b[39m    \u001b[39m\u001b[39m\"\"\"\u001b[39;00m\n\u001b[0;32m   1731\u001b[0m \u001b[39m    Read SQL query into a DataFrame.\u001b[39;00m\n\u001b[0;32m   1732\u001b[0m \n\u001b[1;32m   (...)\u001b[0m\n\u001b[0;32m   1774\u001b[0m \n\u001b[0;32m   1775\u001b[0m \u001b[39m    \"\"\"\u001b[39;00m\n\u001b[1;32m-> 1776\u001b[0m     result \u001b[39m=\u001b[39m \u001b[39mself\u001b[39;49m\u001b[39m.\u001b[39;49mexecute(sql, params)\n\u001b[0;32m   1777\u001b[0m     columns \u001b[39m=\u001b[39m result\u001b[39m.\u001b[39mkeys()\n\u001b[0;32m   1779\u001b[0m     \u001b[39mif\u001b[39;00m chunksize \u001b[39mis\u001b[39;00m \u001b[39mnot\u001b[39;00m \u001b[39mNone\u001b[39;00m:\n",
      "File \u001b[1;32mc:\\Python310\\lib\\site-packages\\pandas\\io\\sql.py:1600\u001b[0m, in \u001b[0;36mSQLDatabase.execute\u001b[1;34m(self, sql, params)\u001b[0m\n\u001b[0;32m   1598\u001b[0m \u001b[39mif\u001b[39;00m \u001b[39misinstance\u001b[39m(sql, \u001b[39mstr\u001b[39m):\n\u001b[0;32m   1599\u001b[0m     \u001b[39mreturn\u001b[39;00m \u001b[39mself\u001b[39m\u001b[39m.\u001b[39mcon\u001b[39m.\u001b[39mexec_driver_sql(sql, \u001b[39m*\u001b[39margs)\n\u001b[1;32m-> 1600\u001b[0m \u001b[39mreturn\u001b[39;00m \u001b[39mself\u001b[39;49m\u001b[39m.\u001b[39;49mcon\u001b[39m.\u001b[39;49mexecute(sql, \u001b[39m*\u001b[39;49margs)\n",
      "File \u001b[1;32mc:\\Python310\\lib\\site-packages\\sqlalchemy\\engine\\base.py:1385\u001b[0m, in \u001b[0;36mConnection.execute\u001b[1;34m(self, statement, *multiparams, **params)\u001b[0m\n\u001b[0;32m   1381\u001b[0m     util\u001b[39m.\u001b[39mraise_(\n\u001b[0;32m   1382\u001b[0m         exc\u001b[39m.\u001b[39mObjectNotExecutableError(statement), replace_context\u001b[39m=\u001b[39merr\n\u001b[0;32m   1383\u001b[0m     )\n\u001b[0;32m   1384\u001b[0m \u001b[39melse\u001b[39;00m:\n\u001b[1;32m-> 1385\u001b[0m     \u001b[39mreturn\u001b[39;00m meth(\u001b[39mself\u001b[39;49m, multiparams, params, _EMPTY_EXECUTION_OPTS)\n",
      "File \u001b[1;32mc:\\Python310\\lib\\site-packages\\sqlalchemy\\sql\\elements.py:334\u001b[0m, in \u001b[0;36mClauseElement._execute_on_connection\u001b[1;34m(self, connection, multiparams, params, execution_options, _force)\u001b[0m\n\u001b[0;32m    330\u001b[0m \u001b[39mdef\u001b[39;00m \u001b[39m_execute_on_connection\u001b[39m(\n\u001b[0;32m    331\u001b[0m     \u001b[39mself\u001b[39m, connection, multiparams, params, execution_options, _force\u001b[39m=\u001b[39m\u001b[39mFalse\u001b[39;00m\n\u001b[0;32m    332\u001b[0m ):\n\u001b[0;32m    333\u001b[0m     \u001b[39mif\u001b[39;00m _force \u001b[39mor\u001b[39;00m \u001b[39mself\u001b[39m\u001b[39m.\u001b[39msupports_execution:\n\u001b[1;32m--> 334\u001b[0m         \u001b[39mreturn\u001b[39;00m connection\u001b[39m.\u001b[39;49m_execute_clauseelement(\n\u001b[0;32m    335\u001b[0m             \u001b[39mself\u001b[39;49m, multiparams, params, execution_options\n\u001b[0;32m    336\u001b[0m         )\n\u001b[0;32m    337\u001b[0m     \u001b[39melse\u001b[39;00m:\n\u001b[0;32m    338\u001b[0m         \u001b[39mraise\u001b[39;00m exc\u001b[39m.\u001b[39mObjectNotExecutableError(\u001b[39mself\u001b[39m)\n",
      "File \u001b[1;32mc:\\Python310\\lib\\site-packages\\sqlalchemy\\engine\\base.py:1577\u001b[0m, in \u001b[0;36mConnection._execute_clauseelement\u001b[1;34m(self, elem, multiparams, params, execution_options)\u001b[0m\n\u001b[0;32m   1565\u001b[0m compiled_cache \u001b[39m=\u001b[39m execution_options\u001b[39m.\u001b[39mget(\n\u001b[0;32m   1566\u001b[0m     \u001b[39m\"\u001b[39m\u001b[39mcompiled_cache\u001b[39m\u001b[39m\"\u001b[39m, \u001b[39mself\u001b[39m\u001b[39m.\u001b[39mengine\u001b[39m.\u001b[39m_compiled_cache\n\u001b[0;32m   1567\u001b[0m )\n\u001b[0;32m   1569\u001b[0m compiled_sql, extracted_params, cache_hit \u001b[39m=\u001b[39m elem\u001b[39m.\u001b[39m_compile_w_cache(\n\u001b[0;32m   1570\u001b[0m     dialect\u001b[39m=\u001b[39mdialect,\n\u001b[0;32m   1571\u001b[0m     compiled_cache\u001b[39m=\u001b[39mcompiled_cache,\n\u001b[1;32m   (...)\u001b[0m\n\u001b[0;32m   1575\u001b[0m     linting\u001b[39m=\u001b[39m\u001b[39mself\u001b[39m\u001b[39m.\u001b[39mdialect\u001b[39m.\u001b[39mcompiler_linting \u001b[39m|\u001b[39m compiler\u001b[39m.\u001b[39mWARN_LINTING,\n\u001b[0;32m   1576\u001b[0m )\n\u001b[1;32m-> 1577\u001b[0m ret \u001b[39m=\u001b[39m \u001b[39mself\u001b[39;49m\u001b[39m.\u001b[39;49m_execute_context(\n\u001b[0;32m   1578\u001b[0m     dialect,\n\u001b[0;32m   1579\u001b[0m     dialect\u001b[39m.\u001b[39;49mexecution_ctx_cls\u001b[39m.\u001b[39;49m_init_compiled,\n\u001b[0;32m   1580\u001b[0m     compiled_sql,\n\u001b[0;32m   1581\u001b[0m     distilled_params,\n\u001b[0;32m   1582\u001b[0m     execution_options,\n\u001b[0;32m   1583\u001b[0m     compiled_sql,\n\u001b[0;32m   1584\u001b[0m     distilled_params,\n\u001b[0;32m   1585\u001b[0m     elem,\n\u001b[0;32m   1586\u001b[0m     extracted_params,\n\u001b[0;32m   1587\u001b[0m     cache_hit\u001b[39m=\u001b[39;49mcache_hit,\n\u001b[0;32m   1588\u001b[0m )\n\u001b[0;32m   1589\u001b[0m \u001b[39mif\u001b[39;00m has_events:\n\u001b[0;32m   1590\u001b[0m     \u001b[39mself\u001b[39m\u001b[39m.\u001b[39mdispatch\u001b[39m.\u001b[39mafter_execute(\n\u001b[0;32m   1591\u001b[0m         \u001b[39mself\u001b[39m,\n\u001b[0;32m   1592\u001b[0m         elem,\n\u001b[1;32m   (...)\u001b[0m\n\u001b[0;32m   1596\u001b[0m         ret,\n\u001b[0;32m   1597\u001b[0m     )\n",
      "File \u001b[1;32mc:\\Python310\\lib\\site-packages\\sqlalchemy\\engine\\base.py:1953\u001b[0m, in \u001b[0;36mConnection._execute_context\u001b[1;34m(self, dialect, constructor, statement, parameters, execution_options, *args, **kw)\u001b[0m\n\u001b[0;32m   1950\u001b[0m             branched\u001b[39m.\u001b[39mclose()\n\u001b[0;32m   1952\u001b[0m \u001b[39mexcept\u001b[39;00m \u001b[39mBaseException\u001b[39;00m \u001b[39mas\u001b[39;00m e:\n\u001b[1;32m-> 1953\u001b[0m     \u001b[39mself\u001b[39;49m\u001b[39m.\u001b[39;49m_handle_dbapi_exception(\n\u001b[0;32m   1954\u001b[0m         e, statement, parameters, cursor, context\n\u001b[0;32m   1955\u001b[0m     )\n\u001b[0;32m   1957\u001b[0m \u001b[39mreturn\u001b[39;00m result\n",
      "File \u001b[1;32mc:\\Python310\\lib\\site-packages\\sqlalchemy\\engine\\base.py:2134\u001b[0m, in \u001b[0;36mConnection._handle_dbapi_exception\u001b[1;34m(self, e, statement, parameters, cursor, context)\u001b[0m\n\u001b[0;32m   2132\u001b[0m     util\u001b[39m.\u001b[39mraise_(newraise, with_traceback\u001b[39m=\u001b[39mexc_info[\u001b[39m2\u001b[39m], from_\u001b[39m=\u001b[39me)\n\u001b[0;32m   2133\u001b[0m \u001b[39melif\u001b[39;00m should_wrap:\n\u001b[1;32m-> 2134\u001b[0m     util\u001b[39m.\u001b[39;49mraise_(\n\u001b[0;32m   2135\u001b[0m         sqlalchemy_exception, with_traceback\u001b[39m=\u001b[39;49mexc_info[\u001b[39m2\u001b[39;49m], from_\u001b[39m=\u001b[39;49me\n\u001b[0;32m   2136\u001b[0m     )\n\u001b[0;32m   2137\u001b[0m \u001b[39melse\u001b[39;00m:\n\u001b[0;32m   2138\u001b[0m     util\u001b[39m.\u001b[39mraise_(exc_info[\u001b[39m1\u001b[39m], with_traceback\u001b[39m=\u001b[39mexc_info[\u001b[39m2\u001b[39m])\n",
      "File \u001b[1;32mc:\\Python310\\lib\\site-packages\\sqlalchemy\\util\\compat.py:211\u001b[0m, in \u001b[0;36mraise_\u001b[1;34m(***failed resolving arguments***)\u001b[0m\n\u001b[0;32m    208\u001b[0m     exception\u001b[39m.\u001b[39m__cause__ \u001b[39m=\u001b[39m replace_context\n\u001b[0;32m    210\u001b[0m \u001b[39mtry\u001b[39;00m:\n\u001b[1;32m--> 211\u001b[0m     \u001b[39mraise\u001b[39;00m exception\n\u001b[0;32m    212\u001b[0m \u001b[39mfinally\u001b[39;00m:\n\u001b[0;32m    213\u001b[0m     \u001b[39m# credit to\u001b[39;00m\n\u001b[0;32m    214\u001b[0m     \u001b[39m# https://cosmicpercolator.com/2016/01/13/exception-leaks-in-python-2-and-3/\u001b[39;00m\n\u001b[0;32m    215\u001b[0m     \u001b[39m# as the __traceback__ object creates a cycle\u001b[39;00m\n\u001b[0;32m    216\u001b[0m     \u001b[39mdel\u001b[39;00m exception, replace_context, from_, with_traceback\n",
      "File \u001b[1;32mc:\\Python310\\lib\\site-packages\\sqlalchemy\\engine\\base.py:1910\u001b[0m, in \u001b[0;36mConnection._execute_context\u001b[1;34m(self, dialect, constructor, statement, parameters, execution_options, *args, **kw)\u001b[0m\n\u001b[0;32m   1908\u001b[0m                 \u001b[39mbreak\u001b[39;00m\n\u001b[0;32m   1909\u001b[0m     \u001b[39mif\u001b[39;00m \u001b[39mnot\u001b[39;00m evt_handled:\n\u001b[1;32m-> 1910\u001b[0m         \u001b[39mself\u001b[39;49m\u001b[39m.\u001b[39;49mdialect\u001b[39m.\u001b[39;49mdo_execute(\n\u001b[0;32m   1911\u001b[0m             cursor, statement, parameters, context\n\u001b[0;32m   1912\u001b[0m         )\n\u001b[0;32m   1914\u001b[0m \u001b[39mif\u001b[39;00m \u001b[39mself\u001b[39m\u001b[39m.\u001b[39m_has_events \u001b[39mor\u001b[39;00m \u001b[39mself\u001b[39m\u001b[39m.\u001b[39mengine\u001b[39m.\u001b[39m_has_events:\n\u001b[0;32m   1915\u001b[0m     \u001b[39mself\u001b[39m\u001b[39m.\u001b[39mdispatch\u001b[39m.\u001b[39mafter_cursor_execute(\n\u001b[0;32m   1916\u001b[0m         \u001b[39mself\u001b[39m,\n\u001b[0;32m   1917\u001b[0m         cursor,\n\u001b[1;32m   (...)\u001b[0m\n\u001b[0;32m   1921\u001b[0m         context\u001b[39m.\u001b[39mexecutemany,\n\u001b[0;32m   1922\u001b[0m     )\n",
      "File \u001b[1;32mc:\\Python310\\lib\\site-packages\\sqlalchemy\\engine\\default.py:736\u001b[0m, in \u001b[0;36mDefaultDialect.do_execute\u001b[1;34m(self, cursor, statement, parameters, context)\u001b[0m\n\u001b[0;32m    735\u001b[0m \u001b[39mdef\u001b[39;00m \u001b[39mdo_execute\u001b[39m(\u001b[39mself\u001b[39m, cursor, statement, parameters, context\u001b[39m=\u001b[39m\u001b[39mNone\u001b[39;00m):\n\u001b[1;32m--> 736\u001b[0m     cursor\u001b[39m.\u001b[39;49mexecute(statement, parameters)\n",
      "\u001b[1;31mProgrammingError\u001b[0m: (psycopg2.errors.UndefinedColumn) column prod.product_code does not exist\nLINE 19:  ON ord.product_code = prod.product_code\n                                ^\nHINT:  Perhaps you meant to reference the column \"ord.product_code\".\n\n[SQL:  \nSELECT \n\tROUND(CAST(SUM(sale) AS NUMERIC), 2) AS total_sales,\n\tstore_type,\n\tcountry_code\nFROM (\nSELECT\n\tst.store_type,\n\tst.country_code,\n\tord.product_quantity * prod.product_price AS sale\nFROM orders_table ord\nINNER JOIN (\n\tSELECT store_code, store_type, country_code\n\tFROM dim_store_details \n\tWHERE country_code = 'DE'\n\t) st\n\tON ord.store_code = st.store_code\nINNER JOIN dim_products prod\n\tON ord.product_code = prod.product_code\n) x\nGROUP BY \n\tstore_type,\n\tcountry_code\nORDER BY \n\ttotal_sales;\n]\n(Background on this error at: https://sqlalche.me/e/14/f405)"
     ]
    }
   ],
   "source": [
    "sql = ''' \n",
    "SELECT \n",
    "\tROUND(CAST(SUM(sale) AS NUMERIC), 2) AS total_sales,\n",
    "\tstore_type,\n",
    "\tcountry_code\n",
    "FROM (\n",
    "SELECT\n",
    "\tst.store_type,\n",
    "\tst.country_code,\n",
    "\tord.product_quantity * prod.product_price AS sale\n",
    "FROM orders_table ord\n",
    "INNER JOIN (\n",
    "\tSELECT store_code, store_type, country_code\n",
    "\tFROM dim_store_details \n",
    "\tWHERE country_code = 'DE'\n",
    "\t) st\n",
    "\tON ord.store_code = st.store_code\n",
    "INNER JOIN dim_products prod\n",
    "\tON ord.product_code = prod.product_code\n",
    ") x\n",
    "GROUP BY \n",
    "\tstore_type,\n",
    "\tcountry_code\n",
    "ORDER BY \n",
    "\ttotal_sales;\n",
    "''' \n",
    "\n",
    "execute(sql)"
   ]
  },
  {
   "cell_type": "markdown",
   "metadata": {},
   "source": [
    "9. How quickly is the company making sales?\n",
    "Average time interval between sales; grouped by year."
   ]
  },
  {
   "cell_type": "code",
   "execution_count": 12,
   "metadata": {},
   "outputs": [
    {
     "name": "stdout",
     "output_type": "stream",
     "text": [
      "   year                                  actual_time_taken\n",
      "0  2013  \"hours\": 02, \"minutes\": 17, \"seconds\": 15, \"mi...\n",
      "1  1993  \"hours\": 02, \"minutes\": 15, \"seconds\": 40, \"mi...\n",
      "2  2002  \"hours\": 02, \"minutes\": 13, \"seconds\": 49, \"mi...\n",
      "3  2008  \"hours\": 02, \"minutes\": 13, \"seconds\": 03, \"mi...\n",
      "4  2022  \"hours\": 02, \"minutes\": 13, \"seconds\": 02, \"mi...\n"
     ]
    }
   ],
   "source": [
    "sql = ''' \n",
    "SELECT\n",
    "\tyear,\n",
    "\t--avg_datediff,\n",
    "\t'\"hours\": ' || TO_CHAR(avg_datediff, 'HH24') || \n",
    "\t', \"minutes\": ' || TO_CHAR(avg_datediff, 'MI') ||\n",
    "\t', \"seconds\": ' || TO_CHAR(avg_datediff, 'SS') ||\n",
    "\t', \"milliseconds\": ' || TO_CHAR(avg_datediff, 'MS')\n",
    "\tAS actual_time_taken\n",
    "FROM (\n",
    "\tSELECT\n",
    "\t\tyear,\n",
    "\t\tAVG(datediff) AS avg_datediff\n",
    "\tFROM (\n",
    "\t\tSELECT\n",
    "\t\t\tyear,\n",
    "\t\t\tdt,\n",
    "\t\t\tnext_dt,\n",
    "\t\t\tnext_dt - dt AS datediff\n",
    "\t\tFROM (\n",
    "\t\t\tSELECT \n",
    "\t\t\t\tyear,\n",
    "\t\t\t\tdt, \n",
    "\t\t\t\tLEAD(dt, 1) OVER (ORDER BY dt) next_dt\n",
    "\t\t\tFROM (\n",
    "\t\t\t\tSELECT \n",
    "\t\t\t\t\tyear,\n",
    "\t\t\t\t\tCAST(year || '-' || month || '-' || day || ' ' || timestamp AS TIMESTAMP(1) WITHOUT TIME ZONE) dt\n",
    "\t\t\t\tFROM dim_date_times\n",
    "\t\t\t) concat_datetime\n",
    "\t\t) get_next_datetime\n",
    "\t) subtract_datetimes\n",
    "\tGROUP BY year\n",
    ") get_average_interval\n",
    "ORDER BY avg_datediff DESC\n",
    "LIMIT 5;\n",
    "'''\n",
    "\n",
    "execute(sql)\n"
   ]
  }
 ],
 "metadata": {
  "kernelspec": {
   "display_name": "Python 3",
   "language": "python",
   "name": "python3"
  },
  "language_info": {
   "codemirror_mode": {
    "name": "ipython",
    "version": 3
   },
   "file_extension": ".py",
   "mimetype": "text/x-python",
   "name": "python",
   "nbconvert_exporter": "python",
   "pygments_lexer": "ipython3",
   "version": "3.10.5"
  },
  "orig_nbformat": 4
 },
 "nbformat": 4,
 "nbformat_minor": 2
}
