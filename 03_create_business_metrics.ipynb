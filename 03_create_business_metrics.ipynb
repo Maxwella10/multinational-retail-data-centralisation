{
 "cells": [
  {
   "cell_type": "markdown",
   "metadata": {},
   "source": [
    "AiCore Multinational Retail Data Centralisation Project\n",
    "Milestone 4: Query the data using QL\n",
    "\n",
    "Author: Maxwell Acha\n",
    "\n",
    "Date: 2023-11-20"
   ]
  },
  {
   "cell_type": "code",
   "execution_count": 1,
   "metadata": {},
   "outputs": [
    {
     "name": "stdout",
     "output_type": "stream",
     "text": [
      "Loading database credentials from file: data_ingestion\\db_local_creds.yaml\n",
      "Connecting to database: postgres\n"
     ]
    }
   ],
   "source": [
    "# Import libraries and connect to database\n",
    "\n",
    "import pandas as pd\n",
    "from data_ingestion.database_utils import DatabaseConnector\n",
    "from sqlalchemy import text\n",
    "\n",
    "db_connector = DatabaseConnector(\"data_ingestion\\db_local_creds.yaml\")\n",
    "db_connector.init_db_engine(autocommit=True)\n",
    "engine = db_connector.engine\n",
    "\n",
    "\n",
    "def execute(sql):\n",
    "    '''Helper function for executing SQL and printing results.\n",
    "\n",
    "    Arguments:\n",
    "        sql (string): SQL query\n",
    "    \n",
    "    Returns:\n",
    "        None'''\n",
    "        \n",
    "    with engine.connect() as con:\n",
    "        df = pd.read_sql_query(sql=text(sql), con=con)\n",
    "        print(df)"
   ]
  },
  {
   "cell_type": "markdown",
   "metadata": {},
   "source": [
    "1. How many stores does the business have and in which countries?"
   ]
  },
  {
   "cell_type": "code",
   "execution_count": 2,
   "metadata": {},
   "outputs": [
    {
     "name": "stdout",
     "output_type": "stream",
     "text": [
      "  country_code  total_no_stores\n",
      "0           DE              141\n",
      "1           GB              266\n",
      "2           US               34\n"
     ]
    }
   ],
   "source": [
    "sql = '''\n",
    "SELECT country_code, count(*) AS total_no_stores\n",
    "FROM dim_store_details\n",
    "GROUP BY country_code\n",
    "ORDER BY country_code;\n",
    "'''\n",
    "\n",
    "execute(sql)"
   ]
  },
  {
   "cell_type": "markdown",
   "metadata": {},
   "source": [
    "2. Which locations currently have the most stores?"
   ]
  },
  {
   "cell_type": "code",
   "execution_count": 3,
   "metadata": {},
   "outputs": [
    {
     "name": "stdout",
     "output_type": "stream",
     "text": [
      "       locality  total_no_stores\n",
      "0    Chapletown               14\n",
      "1        Belper               13\n",
      "2        Bushey               12\n",
      "3        Exeter               11\n",
      "4  High Wycombe               10\n",
      "5      Arbroath               10\n",
      "6    Rutherglen               10\n"
     ]
    }
   ],
   "source": [
    "sql = '''\n",
    "SELECT locality, count(*) AS total_no_stores\n",
    "FROM dim_store_details\n",
    "GROUP BY locality\n",
    "ORDER BY total_no_stores DESC\n",
    "LIMIT 7;\n",
    "'''\n",
    "\n",
    "execute(sql)"
   ]
  },
  {
   "cell_type": "markdown",
   "metadata": {},
   "source": [
    "3. Which months produce the highest average cost of sales?"
   ]
  },
  {
   "cell_type": "code",
   "execution_count": null,
   "metadata": {},
   "outputs": [],
   "source": [
    "sql = '''\n",
    "SELECT\n",
    "\tROUND(CAST(SUM(spend) AS numeric), 2) AS total_sales,\n",
    "\tmonth\n",
    "FROM (\n",
    "\tSELECT \n",
    "\t\tord.product_quantity * prod.product_price AS spend,\n",
    "\t\tdt.month\n",
    "\tFROM orders_table ord\n",
    "\tINNER JOIN dim_date_times dt\n",
    "\t\tON ord.date_uuid = dt.date_uuid\n",
    "\tINNER JOIN dim_products prod\n",
    "\t\tON ord.product_code = prod.product_code\n",
    ") x\n",
    "GROUP BY month\n",
    "ORDER BY total_sales DESC;\n",
    "'''\n",
    "\n",
    "execute(sql)"
   ]
  },
  {
   "cell_type": "markdown",
   "metadata": {},
   "source": [
    "4. How many sales are coming from online?"
   ]
  },
  {
   "cell_type": "code",
   "execution_count": 6,
   "metadata": {},
   "outputs": [
    {
     "name": "stdout",
     "output_type": "stream",
     "text": [
      "   numbers_of_sales  product_quantity_count location\n",
      "0             26957                107739.0      Web\n",
      "1             93166                374047.0  Offline\n"
     ]
    }
   ],
   "source": [
    "sql = '''\n",
    "SELECT\n",
    "\tCOUNT(*) AS numbers_of_sales,\n",
    "\tSUM(product_quantity) AS product_quantity_count,\n",
    "\tlocation\n",
    "FROM (\n",
    "\tSELECT \n",
    "\t\tord.product_quantity,\n",
    "\t\tCASE\n",
    "\t\t\tWHEN st.store_type = 'Web Portal' THEN 'Web'\n",
    "\t\t\tELSE 'Offline'\n",
    "\t\tEND AS location\n",
    "\tFROM orders_table ord\n",
    "\tINNER JOIN dim_store_details st\n",
    "\t\tON ord.store_code = st.store_code\n",
    ") x\n",
    "GROUP BY location\n",
    "ORDER BY location DESC;\n",
    "''' \n",
    "\n",
    "execute(sql)"
   ]
  },
  {
   "cell_type": "markdown",
   "metadata": {},
   "source": [
    "5. What percentage of sales come through each type of store?"
   ]
  },
  {
   "cell_type": "code",
   "execution_count": 7,
   "metadata": {},
   "outputs": [
    {
     "name": "stdout",
     "output_type": "stream",
     "text": [
      "    store_type  total_sales  percentage_total\n",
      "0        Local        53894             44.87\n",
      "1   Web Portal        26957             22.44\n",
      "2  Super Store        18779             15.63\n",
      "3   Mall Kiosk        10762              8.96\n",
      "4       Outlet         9731              8.10\n"
     ]
    }
   ],
   "source": [
    "sql = ''' \n",
    "SELECT \n",
    "    dim_store_details.store_type,\n",
    "    COUNT(*) AS total_sales,\n",
    "    ROUND(COUNT(*) * 100.0/SUM(COUNT(*)) OVER (),2) AS percentage_total -- calculates the ratio of the count of rows for each sales type to the total count of all rows in the result set.\n",
    "    \n",
    "  FROM \n",
    "    orders_table \n",
    "    INNER JOIN dim_store_details ON orders_table.store_code = dim_store_details.store_code\n",
    "  GROUP BY\n",
    "    dim_store_details.store_type\n",
    "  ORDER BY percentage_total DESC;\n",
    "\n",
    "''' \n",
    "\n",
    "execute(sql)"
   ]
  },
  {
   "cell_type": "markdown",
   "metadata": {},
   "source": [
    "6. Which months produced the highest sales?"
   ]
  },
  {
   "cell_type": "code",
   "execution_count": null,
   "metadata": {},
   "outputs": [],
   "source": [
    "sql = ''' \n",
    "SELECT\n",
    "\tROUND(CAST(SUM(sale) AS NUMERIC), 2) AS total_sales,\n",
    "\tyear,\n",
    "\tmonth\n",
    "FROM (\n",
    "\tSELECT \n",
    "\t\tdt.year,\n",
    "\t\tdt.month,\n",
    "\t\tord.product_quantity * prod.product_price AS sale\n",
    "\tFROM orders_table ord\n",
    "\tINNER JOIN dim_products prod\n",
    "\t\tON ord.product_code = prod.product_code\n",
    "\tINNER JOIN dim_date_times dt\n",
    "\t\tON ord.date_uuid = dt.date_uuid\n",
    ") x\n",
    "GROUP BY year, month\n",
    "ORDER BY total_sales DESC\n",
    "LIMIT 10;\n",
    "''' \n",
    "\n",
    "execute(sql)"
   ]
  },
  {
   "cell_type": "markdown",
   "metadata": {},
   "source": [
    "7. What is our staff headcount?"
   ]
  },
  {
   "cell_type": "code",
   "execution_count": 9,
   "metadata": {},
   "outputs": [
    {
     "name": "stdout",
     "output_type": "stream",
     "text": [
      "   total_staff_numbers country_code\n",
      "0              13132.0           GB\n",
      "1               6054.0           DE\n",
      "2               1304.0           US\n"
     ]
    }
   ],
   "source": [
    "sql = ''' \n",
    "SELECT \n",
    "\tSUM(staff_numbers) AS total_staff_numbers,\n",
    "\tcountry_code\n",
    "FROM dim_store_details\n",
    "GROUP BY country_code\n",
    "ORDER BY total_staff_numbers DESC;\n",
    "'''\n",
    "\n",
    "execute(sql)"
   ]
  },
  {
   "cell_type": "markdown",
   "metadata": {},
   "source": [
    "8. Which German store type is selling the most?"
   ]
  },
  {
   "cell_type": "code",
   "execution_count": null,
   "metadata": {},
   "outputs": [],
   "source": [
    "ql = ''' \n",
    "SELECT \n",
    "\tROUND(CAST(SUM(sale) AS NUMERIC), 2) AS total_sales,\n",
    "\tstore_type,\n",
    "\tcountry_code\n",
    "FROM (\n",
    "SELECT\n",
    "\tst.store_type,\n",
    "\tst.country_code,\n",
    "\tord.product_quantity * prod.product_price AS sale\n",
    "FROM orders_table ord\n",
    "INNER JOIN (\n",
    "\tSELECT store_code, store_type, country_code\n",
    "\tFROM dim_store_details \n",
    "\tWHERE country_code = 'DE'\n",
    "\t) st\n",
    "\tON ord.store_code = st.store_code\n",
    "INNER JOIN dim_products prod\n",
    "\tON ord.product_code = prod.product_code\n",
    ") x\n",
    "GROUP BY \n",
    "\tstore_type,\n",
    "\tcountry_code\n",
    "ORDER BY \n",
    "\ttotal_sales;\n",
    "''' \n",
    "\n",
    "execute(sql)"
   ]
  },
  {
   "cell_type": "markdown",
   "metadata": {},
   "source": [
    "9. How quickly is the company making sales?\n",
    "Average time interval between sales; grouped by year."
   ]
  },
  {
   "cell_type": "code",
   "execution_count": 12,
   "metadata": {},
   "outputs": [
    {
     "name": "stdout",
     "output_type": "stream",
     "text": [
      "   year                                  actual_time_taken\n",
      "0  2013  \"hours\": 02, \"minutes\": 17, \"seconds\": 15, \"mi...\n",
      "1  1993  \"hours\": 02, \"minutes\": 15, \"seconds\": 40, \"mi...\n",
      "2  2002  \"hours\": 02, \"minutes\": 13, \"seconds\": 49, \"mi...\n",
      "3  2008  \"hours\": 02, \"minutes\": 13, \"seconds\": 03, \"mi...\n",
      "4  2022  \"hours\": 02, \"minutes\": 13, \"seconds\": 02, \"mi...\n"
     ]
    }
   ],
   "source": [
    "sql = ''' \n",
    "SELECT\n",
    "\tyear,\n",
    "\t--avg_datediff,\n",
    "\t'\"hours\": ' || TO_CHAR(avg_datediff, 'HH24') || \n",
    "\t', \"minutes\": ' || TO_CHAR(avg_datediff, 'MI') ||\n",
    "\t', \"seconds\": ' || TO_CHAR(avg_datediff, 'SS') ||\n",
    "\t', \"milliseconds\": ' || TO_CHAR(avg_datediff, 'MS')\n",
    "\tAS actual_time_taken\n",
    "FROM (\n",
    "\tSELECT\n",
    "\t\tyear,\n",
    "\t\tAVG(datediff) AS avg_datediff\n",
    "\tFROM (\n",
    "\t\tSELECT\n",
    "\t\t\tyear,\n",
    "\t\t\tdt,\n",
    "\t\t\tnext_dt,\n",
    "\t\t\tnext_dt - dt AS datediff\n",
    "\t\tFROM (\n",
    "\t\t\tSELECT \n",
    "\t\t\t\tyear,\n",
    "\t\t\t\tdt, \n",
    "\t\t\t\tLEAD(dt, 1) OVER (ORDER BY dt) next_dt\n",
    "\t\t\tFROM (\n",
    "\t\t\t\tSELECT \n",
    "\t\t\t\t\tyear,\n",
    "\t\t\t\t\tCAST(year || '-' || month || '-' || day || ' ' || timestamp AS TIMESTAMP(1) WITHOUT TIME ZONE) dt\n",
    "\t\t\t\tFROM dim_date_times\n",
    "\t\t\t) concat_datetime\n",
    "\t\t) get_next_datetime\n",
    "\t) subtract_datetimes\n",
    "\tGROUP BY year\n",
    ") get_average_interval\n",
    "ORDER BY avg_datediff DESC\n",
    "LIMIT 5;\n",
    "'''\n",
    "\n",
    "execute(sql)\n"
   ]
  }
 ],
 "metadata": {
  "kernelspec": {
   "display_name": "Python 3",
   "language": "python",
   "name": "python3"
  },
  "language_info": {
   "codemirror_mode": {
    "name": "ipython",
    "version": 3
   },
   "file_extension": ".py",
   "mimetype": "text/x-python",
   "name": "python",
   "nbconvert_exporter": "python",
   "pygments_lexer": "ipython3",
   "version": "3.10.5"
  },
  "orig_nbformat": 4
 },
 "nbformat": 4,
 "nbformat_minor": 2
}
